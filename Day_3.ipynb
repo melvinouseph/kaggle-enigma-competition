{
  "nbformat": 4,
  "nbformat_minor": 0,
  "metadata": {
    "colab": {
      "name": "Day 3.ipynb",
      "provenance": []
    },
    "kernelspec": {
      "name": "python3",
      "display_name": "Python 3"
    }
  },
  "cells": [
    {
      "cell_type": "code",
      "metadata": {
        "id": "rb7tQKO21CPJ",
        "colab_type": "code",
        "colab": {}
      },
      "source": [
        "import numpy as np\n",
        "import pandas as pd\n",
        "import matplotlib.pyplot as plt\n",
        "import tensorflow as tf\n",
        "import io\n",
        "from sklearn.model_selection import train_test_split\n",
        "from sklearn.preprocessing import StandardScaler, MinMaxScaler\n",
        "import math"
      ],
      "execution_count": 0,
      "outputs": []
    },
    {
      "cell_type": "code",
      "metadata": {
        "id": "0isaBfuD1Xrv",
        "colab_type": "code",
        "colab": {}
      },
      "source": [
        "df1 = pd.read_csv('train.csv')\n",
        "df2 = pd.read_csv('test.csv')"
      ],
      "execution_count": 0,
      "outputs": []
    },
    {
      "cell_type": "code",
      "metadata": {
        "id": "JAl3hTFw1pqa",
        "colab_type": "code",
        "outputId": "5d55c823-b441-422b-f52b-addc90efc649",
        "colab": {
          "base_uri": "https://localhost:8080/",
          "height": 241
        }
      },
      "source": [
        "df1.head()"
      ],
      "execution_count": 0,
      "outputs": [
        {
          "output_type": "execute_result",
          "data": {
            "text/html": [
              "<div>\n",
              "<style scoped>\n",
              "    .dataframe tbody tr th:only-of-type {\n",
              "        vertical-align: middle;\n",
              "    }\n",
              "\n",
              "    .dataframe tbody tr th {\n",
              "        vertical-align: top;\n",
              "    }\n",
              "\n",
              "    .dataframe thead th {\n",
              "        text-align: right;\n",
              "    }\n",
              "</style>\n",
              "<table border=\"1\" class=\"dataframe\">\n",
              "  <thead>\n",
              "    <tr style=\"text-align: right;\">\n",
              "      <th></th>\n",
              "      <th>estimated blast radius(km)</th>\n",
              "      <th>temperature(C)</th>\n",
              "      <th>distance from nearest carrier(nm)</th>\n",
              "      <th>military-to-civilian ratio</th>\n",
              "      <th>population density</th>\n",
              "      <th>relative humidity</th>\n",
              "      <th>squadron strength</th>\n",
              "      <th>city</th>\n",
              "      <th>Id</th>\n",
              "    </tr>\n",
              "  </thead>\n",
              "  <tbody>\n",
              "    <tr>\n",
              "      <th>0</th>\n",
              "      <td>1.51662</td>\n",
              "      <td>12.85</td>\n",
              "      <td>3.51</td>\n",
              "      <td>1.44</td>\n",
              "      <td>73.01</td>\n",
              "      <td>0.68</td>\n",
              "      <td>8.23</td>\n",
              "      <td>2</td>\n",
              "      <td>0</td>\n",
              "    </tr>\n",
              "    <tr>\n",
              "      <th>1</th>\n",
              "      <td>1.52614</td>\n",
              "      <td>13.70</td>\n",
              "      <td>0.00</td>\n",
              "      <td>1.36</td>\n",
              "      <td>71.24</td>\n",
              "      <td>0.19</td>\n",
              "      <td>13.44</td>\n",
              "      <td>2</td>\n",
              "      <td>2</td>\n",
              "    </tr>\n",
              "    <tr>\n",
              "      <th>2</th>\n",
              "      <td>1.51747</td>\n",
              "      <td>12.84</td>\n",
              "      <td>3.50</td>\n",
              "      <td>1.14</td>\n",
              "      <td>73.27</td>\n",
              "      <td>0.56</td>\n",
              "      <td>8.55</td>\n",
              "      <td>1</td>\n",
              "      <td>5</td>\n",
              "    </tr>\n",
              "    <tr>\n",
              "      <th>3</th>\n",
              "      <td>1.51590</td>\n",
              "      <td>12.82</td>\n",
              "      <td>3.52</td>\n",
              "      <td>1.90</td>\n",
              "      <td>72.86</td>\n",
              "      <td>0.69</td>\n",
              "      <td>7.97</td>\n",
              "      <td>2</td>\n",
              "      <td>7</td>\n",
              "    </tr>\n",
              "    <tr>\n",
              "      <th>4</th>\n",
              "      <td>1.51768</td>\n",
              "      <td>12.65</td>\n",
              "      <td>3.56</td>\n",
              "      <td>1.30</td>\n",
              "      <td>73.08</td>\n",
              "      <td>0.61</td>\n",
              "      <td>8.69</td>\n",
              "      <td>1</td>\n",
              "      <td>8</td>\n",
              "    </tr>\n",
              "  </tbody>\n",
              "</table>\n",
              "</div>"
            ],
            "text/plain": [
              "   estimated blast radius(km)  temperature(C)  ...  city  Id\n",
              "0                     1.51662           12.85  ...     2   0\n",
              "1                     1.52614           13.70  ...     2   2\n",
              "2                     1.51747           12.84  ...     1   5\n",
              "3                     1.51590           12.82  ...     2   7\n",
              "4                     1.51768           12.65  ...     1   8\n",
              "\n",
              "[5 rows x 9 columns]"
            ]
          },
          "metadata": {
            "tags": []
          },
          "execution_count": 15
        }
      ]
    },
    {
      "cell_type": "code",
      "metadata": {
        "id": "XTr3O8hh4Mct",
        "colab_type": "code",
        "colab": {}
      },
      "source": [
        "replace_map = {'city': {1:0, 2: 1, 3: 2, 4: 3, 5: 4, 6: 5, 7: 6}}\n",
        "df1.replace(replace_map, inplace=True)\n",
        "df2.replace(replace_map, inplace=True)"
      ],
      "execution_count": 0,
      "outputs": []
    },
    {
      "cell_type": "code",
      "metadata": {
        "id": "Lyp0UnAS4ptf",
        "colab_type": "code",
        "outputId": "bbacd216-47f1-4bff-9c78-6ee9b71b84c0",
        "colab": {
          "base_uri": "https://localhost:8080/",
          "height": 241
        }
      },
      "source": [
        "df1.head()"
      ],
      "execution_count": 0,
      "outputs": [
        {
          "output_type": "execute_result",
          "data": {
            "text/html": [
              "<div>\n",
              "<style scoped>\n",
              "    .dataframe tbody tr th:only-of-type {\n",
              "        vertical-align: middle;\n",
              "    }\n",
              "\n",
              "    .dataframe tbody tr th {\n",
              "        vertical-align: top;\n",
              "    }\n",
              "\n",
              "    .dataframe thead th {\n",
              "        text-align: right;\n",
              "    }\n",
              "</style>\n",
              "<table border=\"1\" class=\"dataframe\">\n",
              "  <thead>\n",
              "    <tr style=\"text-align: right;\">\n",
              "      <th></th>\n",
              "      <th>estimated blast radius(km)</th>\n",
              "      <th>temperature(C)</th>\n",
              "      <th>distance from nearest carrier(nm)</th>\n",
              "      <th>military-to-civilian ratio</th>\n",
              "      <th>population density</th>\n",
              "      <th>relative humidity</th>\n",
              "      <th>squadron strength</th>\n",
              "      <th>city</th>\n",
              "      <th>Id</th>\n",
              "    </tr>\n",
              "  </thead>\n",
              "  <tbody>\n",
              "    <tr>\n",
              "      <th>0</th>\n",
              "      <td>1.51662</td>\n",
              "      <td>12.85</td>\n",
              "      <td>3.51</td>\n",
              "      <td>1.44</td>\n",
              "      <td>73.01</td>\n",
              "      <td>0.68</td>\n",
              "      <td>8.23</td>\n",
              "      <td>1</td>\n",
              "      <td>0</td>\n",
              "    </tr>\n",
              "    <tr>\n",
              "      <th>1</th>\n",
              "      <td>1.52614</td>\n",
              "      <td>13.70</td>\n",
              "      <td>0.00</td>\n",
              "      <td>1.36</td>\n",
              "      <td>71.24</td>\n",
              "      <td>0.19</td>\n",
              "      <td>13.44</td>\n",
              "      <td>1</td>\n",
              "      <td>2</td>\n",
              "    </tr>\n",
              "    <tr>\n",
              "      <th>2</th>\n",
              "      <td>1.51747</td>\n",
              "      <td>12.84</td>\n",
              "      <td>3.50</td>\n",
              "      <td>1.14</td>\n",
              "      <td>73.27</td>\n",
              "      <td>0.56</td>\n",
              "      <td>8.55</td>\n",
              "      <td>0</td>\n",
              "      <td>5</td>\n",
              "    </tr>\n",
              "    <tr>\n",
              "      <th>3</th>\n",
              "      <td>1.51590</td>\n",
              "      <td>12.82</td>\n",
              "      <td>3.52</td>\n",
              "      <td>1.90</td>\n",
              "      <td>72.86</td>\n",
              "      <td>0.69</td>\n",
              "      <td>7.97</td>\n",
              "      <td>1</td>\n",
              "      <td>7</td>\n",
              "    </tr>\n",
              "    <tr>\n",
              "      <th>4</th>\n",
              "      <td>1.51768</td>\n",
              "      <td>12.65</td>\n",
              "      <td>3.56</td>\n",
              "      <td>1.30</td>\n",
              "      <td>73.08</td>\n",
              "      <td>0.61</td>\n",
              "      <td>8.69</td>\n",
              "      <td>0</td>\n",
              "      <td>8</td>\n",
              "    </tr>\n",
              "  </tbody>\n",
              "</table>\n",
              "</div>"
            ],
            "text/plain": [
              "   estimated blast radius(km)  temperature(C)  ...  city  Id\n",
              "0                     1.51662           12.85  ...     1   0\n",
              "1                     1.52614           13.70  ...     1   2\n",
              "2                     1.51747           12.84  ...     0   5\n",
              "3                     1.51590           12.82  ...     1   7\n",
              "4                     1.51768           12.65  ...     0   8\n",
              "\n",
              "[5 rows x 9 columns]"
            ]
          },
          "metadata": {
            "tags": []
          },
          "execution_count": 19
        }
      ]
    },
    {
      "cell_type": "code",
      "metadata": {
        "id": "DLQo-zYe1uCY",
        "colab_type": "code",
        "colab": {}
      },
      "source": [
        "Y = df1['city'].copy()\n",
        "X = df1[['estimated blast radius(km)','temperature(C)','distance from nearest carrier(nm)','military-to-civilian ratio','population density','relative humidity','squadron strength']].copy()\n",
        "X_test = df2[['estimated blast radius(km)','temperature(C)','distance from nearest carrier(nm)','military-to-civilian ratio','population density','relative humidity','squadron strength']].copy()"
      ],
      "execution_count": 0,
      "outputs": []
    },
    {
      "cell_type": "code",
      "metadata": {
        "id": "kXTr5Meb20Fs",
        "colab_type": "code",
        "colab": {}
      },
      "source": [
        "scaler = StandardScaler()\n",
        "X = scaler.fit_transform(X)\n",
        "X_test = scaler.transform(X_test)"
      ],
      "execution_count": 0,
      "outputs": []
    },
    {
      "cell_type": "code",
      "metadata": {
        "id": "xLRZcb-c25NQ",
        "colab_type": "code",
        "colab": {}
      },
      "source": [
        "X_train, X_val, Y_train, Y_val = train_test_split(X, Y, test_size=0.30)"
      ],
      "execution_count": 0,
      "outputs": []
    },
    {
      "cell_type": "code",
      "metadata": {
        "id": "-twzXm-iDW_M",
        "colab_type": "code",
        "outputId": "63442f30-7980-4fe5-cde7-fa5f6ebfdfc1",
        "colab": {
          "base_uri": "https://localhost:8080/",
          "height": 34
        }
      },
      "source": [
        "from sklearn.tree import DecisionTreeClassifier \n",
        "from sklearn.metrics import confusion_matrix, accuracy_score\n",
        "dtree_model = DecisionTreeClassifier(max_depth = 2).fit(X_train, Y_train) \n",
        "dtree_predictions = dtree_model.predict(X_val) \n",
        "  \n",
        "# creating a confusion matrix \n",
        "cm = confusion_matrix(Y_val, dtree_predictions) \n",
        "cm\n",
        "\n",
        "accuracy = accuracy_score(Y_val,dtree_predictions)\n",
        "accuracy"
      ],
      "execution_count": 0,
      "outputs": [
        {
          "output_type": "execute_result",
          "data": {
            "text/plain": [
              "0.5853658536585366"
            ]
          },
          "metadata": {
            "tags": []
          },
          "execution_count": 52
        }
      ]
    },
    {
      "cell_type": "code",
      "metadata": {
        "id": "niw1TdT3HbJS",
        "colab_type": "code",
        "outputId": "41708782-c46f-460a-810f-5b3102b8cc0f",
        "colab": {
          "base_uri": "https://localhost:8080/",
          "height": 34
        }
      },
      "source": [
        "from sklearn.svm import SVC \n",
        "svm_model_linear = SVC(kernel = 'linear', C = 1).fit(X_train, Y_train) \n",
        "svm_predictions = svm_model_linear.predict(X_val) \n",
        "  \n",
        "# model accuracy for X_test   \n",
        "accuracy = svm_model_linear.score(X_val, Y_val) \n",
        "accuracy"
      ],
      "execution_count": 0,
      "outputs": [
        {
          "output_type": "execute_result",
          "data": {
            "text/plain": [
              "0.6097560975609756"
            ]
          },
          "metadata": {
            "tags": []
          },
          "execution_count": 55
        }
      ]
    },
    {
      "cell_type": "code",
      "metadata": {
        "id": "xDxftIioHWQh",
        "colab_type": "code",
        "outputId": "94b76631-9c3e-40fd-dd74-a7d59f2b51f2",
        "colab": {
          "base_uri": "https://localhost:8080/",
          "height": 34
        }
      },
      "source": [
        "from sklearn.neighbors import KNeighborsClassifier \n",
        "knn = KNeighborsClassifier(n_neighbors = 7).fit(X_train, Y_train) \n",
        "  \n",
        "# accuracy on X_test \n",
        "accuracy = knn.score(X_val, Y_val) \n",
        "accuracy  "
      ],
      "execution_count": 0,
      "outputs": [
        {
          "output_type": "execute_result",
          "data": {
            "text/plain": [
              "0.5853658536585366"
            ]
          },
          "metadata": {
            "tags": []
          },
          "execution_count": 58
        }
      ]
    },
    {
      "cell_type": "code",
      "metadata": {
        "id": "vozyE4rUIcYM",
        "colab_type": "code",
        "outputId": "36670619-58f3-4125-de05-9006a78e70f4",
        "colab": {
          "base_uri": "https://localhost:8080/",
          "height": 34
        }
      },
      "source": [
        "from sklearn.naive_bayes import GaussianNB \n",
        "gnb = GaussianNB().fit(X_train, Y_train) \n",
        "gnb_predictions = gnb.predict(X_val) \n",
        "  \n",
        "# accuracy on X_test \n",
        "accuracy = gnb.score(X_val, Y_val) \n",
        "accuracy "
      ],
      "execution_count": 0,
      "outputs": [
        {
          "output_type": "execute_result",
          "data": {
            "text/plain": [
              "0.4634146341463415"
            ]
          },
          "metadata": {
            "tags": []
          },
          "execution_count": 61
        }
      ]
    },
    {
      "cell_type": "code",
      "metadata": {
        "id": "tR54zGczI84U",
        "colab_type": "code",
        "outputId": "7d8daf48-7569-4cab-db09-d6ccf736155b",
        "colab": {
          "base_uri": "https://localhost:8080/",
          "height": 34
        }
      },
      "source": [
        "from sklearn.ensemble import RandomForestClassifier\n",
        "clf=RandomForestClassifier(n_estimators=100)\n",
        "clf.fit(X_train,Y_train)\n",
        "\n",
        "accuracy = clf.score(X_val, Y_val)\n",
        "accuracy"
      ],
      "execution_count": 0,
      "outputs": [
        {
          "output_type": "execute_result",
          "data": {
            "text/plain": [
              "0.6097560975609756"
            ]
          },
          "metadata": {
            "tags": []
          },
          "execution_count": 63
        }
      ]
    },
    {
      "cell_type": "code",
      "metadata": {
        "id": "LVQaoBesJXOe",
        "colab_type": "code",
        "outputId": "6c8f3fa6-d1ac-4944-8a49-b2a396b4d254",
        "colab": {
          "base_uri": "https://localhost:8080/",
          "height": 86
        }
      },
      "source": [
        "P = clf.predict(X_test)\n",
        "P"
      ],
      "execution_count": 0,
      "outputs": [
        {
          "output_type": "execute_result",
          "data": {
            "text/plain": [
              "array([1, 0, 1, 0, 0, 6, 4, 0, 1, 1, 1, 1, 1, 1, 0, 0, 0, 0, 6, 1, 1, 1,\n",
              "       1, 6, 1, 0, 6, 1, 4, 1, 2, 0, 6, 6, 6, 1, 1, 1, 0, 0, 0, 0, 2, 1,\n",
              "       0, 0, 0, 0, 0, 1, 1, 1, 2, 0, 0, 1, 1, 4, 6, 0, 0, 1, 4, 0, 6, 6,\n",
              "       1, 6, 6, 0, 1, 1, 5, 6, 2, 0, 0, 1, 1])"
            ]
          },
          "metadata": {
            "tags": []
          },
          "execution_count": 64
        }
      ]
    },
    {
      "cell_type": "code",
      "metadata": {
        "id": "JBXnQ4zwJhPS",
        "colab_type": "code",
        "colab": {}
      },
      "source": [
        "P = P.flatten()\n",
        "id = df2['Id'].to_list()\n",
        "Y_pred = pd.DataFrame(list(zip(id, P)), \n",
        "               columns =['Id', 'city']) \n",
        "replace_map = {'city': {0:1, 1: 2, 2: 3, 3: 4, 4: 5, 5: 6, 6: 7}}\n",
        "Y_pred.replace(replace_map, inplace=True)\n",
        "Y_pred.set_index(['Id'], inplace=True)\n",
        "Y_pred.to_csv('city.csv')"
      ],
      "execution_count": 0,
      "outputs": []
    },
    {
      "cell_type": "code",
      "metadata": {
        "id": "R2JxJuqq3AtS",
        "colab_type": "code",
        "outputId": "f009af49-e86d-48d8-99cc-6ee184416cfe",
        "colab": {
          "base_uri": "https://localhost:8080/",
          "height": 1000
        }
      },
      "source": [
        "model = tf.keras.models.Sequential([\n",
        "  tf.keras.layers.Input(shape=(7,)),\n",
        "  #tf.keras.layers.Dropout(0.8),\n",
        "  tf.keras.layers.Dense(14, activation='relu'),\n",
        "  tf.keras.layers.Dense(7,activation='softmax')\n",
        "])\n",
        "\n",
        "model.compile(optimizer='Adam',\n",
        "      loss='categorical_crossentropy', metrics=['accuracy'])\n",
        "  #return model\n",
        "  \n",
        "r = model.fit(X_train, Y_train, validation_data=(X_val, Y_val), epochs=200)"
      ],
      "execution_count": 0,
      "outputs": [
        {
          "output_type": "stream",
          "text": [
            "Epoch 1/200\n",
            "3/3 [==============================] - 0s 36ms/step - loss: 0.0000e+00 - accuracy: 0.3511 - val_loss: 0.0000e+00 - val_accuracy: 0.3171\n",
            "Epoch 2/200\n",
            "3/3 [==============================] - 0s 12ms/step - loss: 0.0000e+00 - accuracy: 0.3511 - val_loss: 0.0000e+00 - val_accuracy: 0.3171\n",
            "Epoch 3/200\n",
            "3/3 [==============================] - 0s 12ms/step - loss: 0.0000e+00 - accuracy: 0.3511 - val_loss: 0.0000e+00 - val_accuracy: 0.3171\n",
            "Epoch 4/200\n",
            "3/3 [==============================] - 0s 12ms/step - loss: 0.0000e+00 - accuracy: 0.3511 - val_loss: 0.0000e+00 - val_accuracy: 0.3171\n",
            "Epoch 5/200\n",
            "3/3 [==============================] - 0s 14ms/step - loss: 0.0000e+00 - accuracy: 0.3511 - val_loss: 0.0000e+00 - val_accuracy: 0.3171\n",
            "Epoch 6/200\n",
            "3/3 [==============================] - 0s 12ms/step - loss: 0.0000e+00 - accuracy: 0.3511 - val_loss: 0.0000e+00 - val_accuracy: 0.3171\n",
            "Epoch 7/200\n",
            "3/3 [==============================] - 0s 11ms/step - loss: 0.0000e+00 - accuracy: 0.3511 - val_loss: 0.0000e+00 - val_accuracy: 0.3171\n",
            "Epoch 8/200\n",
            "3/3 [==============================] - 0s 12ms/step - loss: 0.0000e+00 - accuracy: 0.3511 - val_loss: 0.0000e+00 - val_accuracy: 0.3171\n",
            "Epoch 9/200\n",
            "3/3 [==============================] - 0s 12ms/step - loss: 0.0000e+00 - accuracy: 0.3511 - val_loss: 0.0000e+00 - val_accuracy: 0.3171\n",
            "Epoch 10/200\n",
            "3/3 [==============================] - 0s 12ms/step - loss: 0.0000e+00 - accuracy: 0.3511 - val_loss: 0.0000e+00 - val_accuracy: 0.3171\n",
            "Epoch 11/200\n",
            "3/3 [==============================] - 0s 12ms/step - loss: 0.0000e+00 - accuracy: 0.3511 - val_loss: 0.0000e+00 - val_accuracy: 0.3171\n",
            "Epoch 12/200\n",
            "3/3 [==============================] - 0s 12ms/step - loss: 0.0000e+00 - accuracy: 0.3511 - val_loss: 0.0000e+00 - val_accuracy: 0.3171\n",
            "Epoch 13/200\n",
            "3/3 [==============================] - 0s 12ms/step - loss: 0.0000e+00 - accuracy: 0.3511 - val_loss: 0.0000e+00 - val_accuracy: 0.3171\n",
            "Epoch 14/200\n",
            "3/3 [==============================] - 0s 14ms/step - loss: 0.0000e+00 - accuracy: 0.3511 - val_loss: 0.0000e+00 - val_accuracy: 0.3171\n",
            "Epoch 15/200\n",
            "3/3 [==============================] - 0s 12ms/step - loss: 0.0000e+00 - accuracy: 0.3511 - val_loss: 0.0000e+00 - val_accuracy: 0.3171\n",
            "Epoch 16/200\n",
            "3/3 [==============================] - 0s 11ms/step - loss: 0.0000e+00 - accuracy: 0.3511 - val_loss: 0.0000e+00 - val_accuracy: 0.3171\n",
            "Epoch 17/200\n",
            "3/3 [==============================] - 0s 12ms/step - loss: 0.0000e+00 - accuracy: 0.3511 - val_loss: 0.0000e+00 - val_accuracy: 0.3171\n",
            "Epoch 18/200\n",
            "3/3 [==============================] - 0s 11ms/step - loss: 0.0000e+00 - accuracy: 0.3511 - val_loss: 0.0000e+00 - val_accuracy: 0.3171\n",
            "Epoch 19/200\n",
            "3/3 [==============================] - 0s 13ms/step - loss: 0.0000e+00 - accuracy: 0.3511 - val_loss: 0.0000e+00 - val_accuracy: 0.3171\n",
            "Epoch 20/200\n",
            "3/3 [==============================] - 0s 12ms/step - loss: 0.0000e+00 - accuracy: 0.3511 - val_loss: 0.0000e+00 - val_accuracy: 0.3171\n",
            "Epoch 21/200\n",
            "3/3 [==============================] - 0s 12ms/step - loss: 0.0000e+00 - accuracy: 0.3511 - val_loss: 0.0000e+00 - val_accuracy: 0.3171\n",
            "Epoch 22/200\n",
            "3/3 [==============================] - 0s 12ms/step - loss: 0.0000e+00 - accuracy: 0.3511 - val_loss: 0.0000e+00 - val_accuracy: 0.3171\n",
            "Epoch 23/200\n",
            "3/3 [==============================] - 0s 11ms/step - loss: 0.0000e+00 - accuracy: 0.3511 - val_loss: 0.0000e+00 - val_accuracy: 0.3171\n",
            "Epoch 24/200\n",
            "3/3 [==============================] - 0s 14ms/step - loss: 0.0000e+00 - accuracy: 0.3511 - val_loss: 0.0000e+00 - val_accuracy: 0.3171\n",
            "Epoch 25/200\n",
            "3/3 [==============================] - 0s 12ms/step - loss: 0.0000e+00 - accuracy: 0.3511 - val_loss: 0.0000e+00 - val_accuracy: 0.3171\n",
            "Epoch 26/200\n",
            "3/3 [==============================] - 0s 11ms/step - loss: 0.0000e+00 - accuracy: 0.3511 - val_loss: 0.0000e+00 - val_accuracy: 0.3171\n",
            "Epoch 27/200\n",
            "3/3 [==============================] - 0s 11ms/step - loss: 0.0000e+00 - accuracy: 0.3511 - val_loss: 0.0000e+00 - val_accuracy: 0.3171\n",
            "Epoch 28/200\n",
            "3/3 [==============================] - 0s 12ms/step - loss: 0.0000e+00 - accuracy: 0.3511 - val_loss: 0.0000e+00 - val_accuracy: 0.3171\n",
            "Epoch 29/200\n",
            "3/3 [==============================] - 0s 12ms/step - loss: 0.0000e+00 - accuracy: 0.3511 - val_loss: 0.0000e+00 - val_accuracy: 0.3171\n",
            "Epoch 30/200\n",
            "3/3 [==============================] - 0s 12ms/step - loss: 0.0000e+00 - accuracy: 0.3511 - val_loss: 0.0000e+00 - val_accuracy: 0.3171\n",
            "Epoch 31/200\n",
            "3/3 [==============================] - 0s 12ms/step - loss: 0.0000e+00 - accuracy: 0.3511 - val_loss: 0.0000e+00 - val_accuracy: 0.3171\n",
            "Epoch 32/200\n",
            "3/3 [==============================] - 0s 12ms/step - loss: 0.0000e+00 - accuracy: 0.3511 - val_loss: 0.0000e+00 - val_accuracy: 0.3171\n",
            "Epoch 33/200\n",
            "3/3 [==============================] - 0s 14ms/step - loss: 0.0000e+00 - accuracy: 0.3511 - val_loss: 0.0000e+00 - val_accuracy: 0.3171\n",
            "Epoch 34/200\n",
            "3/3 [==============================] - 0s 12ms/step - loss: 0.0000e+00 - accuracy: 0.3511 - val_loss: 0.0000e+00 - val_accuracy: 0.3171\n",
            "Epoch 35/200\n",
            "3/3 [==============================] - 0s 11ms/step - loss: 0.0000e+00 - accuracy: 0.3511 - val_loss: 0.0000e+00 - val_accuracy: 0.3171\n",
            "Epoch 36/200\n",
            "3/3 [==============================] - 0s 13ms/step - loss: 0.0000e+00 - accuracy: 0.3511 - val_loss: 0.0000e+00 - val_accuracy: 0.3171\n",
            "Epoch 37/200\n",
            "3/3 [==============================] - 0s 12ms/step - loss: 0.0000e+00 - accuracy: 0.3511 - val_loss: 0.0000e+00 - val_accuracy: 0.3171\n",
            "Epoch 38/200\n",
            "3/3 [==============================] - 0s 12ms/step - loss: 0.0000e+00 - accuracy: 0.3511 - val_loss: 0.0000e+00 - val_accuracy: 0.3171\n",
            "Epoch 39/200\n",
            "3/3 [==============================] - 0s 12ms/step - loss: 0.0000e+00 - accuracy: 0.3511 - val_loss: 0.0000e+00 - val_accuracy: 0.3171\n",
            "Epoch 40/200\n",
            "3/3 [==============================] - 0s 12ms/step - loss: 0.0000e+00 - accuracy: 0.3511 - val_loss: 0.0000e+00 - val_accuracy: 0.3171\n",
            "Epoch 41/200\n",
            "3/3 [==============================] - 0s 12ms/step - loss: 0.0000e+00 - accuracy: 0.3511 - val_loss: 0.0000e+00 - val_accuracy: 0.3171\n",
            "Epoch 42/200\n",
            "3/3 [==============================] - 0s 12ms/step - loss: 0.0000e+00 - accuracy: 0.3511 - val_loss: 0.0000e+00 - val_accuracy: 0.3171\n",
            "Epoch 43/200\n",
            "3/3 [==============================] - 0s 14ms/step - loss: 0.0000e+00 - accuracy: 0.3511 - val_loss: 0.0000e+00 - val_accuracy: 0.3171\n",
            "Epoch 44/200\n",
            "3/3 [==============================] - 0s 13ms/step - loss: 0.0000e+00 - accuracy: 0.3511 - val_loss: 0.0000e+00 - val_accuracy: 0.3171\n",
            "Epoch 45/200\n",
            "3/3 [==============================] - 0s 11ms/step - loss: 0.0000e+00 - accuracy: 0.3511 - val_loss: 0.0000e+00 - val_accuracy: 0.3171\n",
            "Epoch 46/200\n",
            "3/3 [==============================] - 0s 12ms/step - loss: 0.0000e+00 - accuracy: 0.3511 - val_loss: 0.0000e+00 - val_accuracy: 0.3171\n",
            "Epoch 47/200\n",
            "3/3 [==============================] - 0s 12ms/step - loss: 0.0000e+00 - accuracy: 0.3511 - val_loss: 0.0000e+00 - val_accuracy: 0.3171\n",
            "Epoch 48/200\n",
            "3/3 [==============================] - 0s 11ms/step - loss: 0.0000e+00 - accuracy: 0.3511 - val_loss: 0.0000e+00 - val_accuracy: 0.3171\n",
            "Epoch 49/200\n",
            "3/3 [==============================] - 0s 11ms/step - loss: 0.0000e+00 - accuracy: 0.3511 - val_loss: 0.0000e+00 - val_accuracy: 0.3171\n",
            "Epoch 50/200\n",
            "3/3 [==============================] - 0s 12ms/step - loss: 0.0000e+00 - accuracy: 0.3511 - val_loss: 0.0000e+00 - val_accuracy: 0.3171\n",
            "Epoch 51/200\n",
            "3/3 [==============================] - 0s 11ms/step - loss: 0.0000e+00 - accuracy: 0.3511 - val_loss: 0.0000e+00 - val_accuracy: 0.3171\n",
            "Epoch 52/200\n",
            "3/3 [==============================] - 0s 11ms/step - loss: 0.0000e+00 - accuracy: 0.3511 - val_loss: 0.0000e+00 - val_accuracy: 0.3171\n",
            "Epoch 53/200\n",
            "3/3 [==============================] - 0s 13ms/step - loss: 0.0000e+00 - accuracy: 0.3511 - val_loss: 0.0000e+00 - val_accuracy: 0.3171\n",
            "Epoch 54/200\n",
            "3/3 [==============================] - 0s 11ms/step - loss: 0.0000e+00 - accuracy: 0.3511 - val_loss: 0.0000e+00 - val_accuracy: 0.3171\n",
            "Epoch 55/200\n",
            "3/3 [==============================] - 0s 12ms/step - loss: 0.0000e+00 - accuracy: 0.3511 - val_loss: 0.0000e+00 - val_accuracy: 0.3171\n",
            "Epoch 56/200\n",
            "3/3 [==============================] - 0s 12ms/step - loss: 0.0000e+00 - accuracy: 0.3511 - val_loss: 0.0000e+00 - val_accuracy: 0.3171\n",
            "Epoch 57/200\n",
            "3/3 [==============================] - 0s 11ms/step - loss: 0.0000e+00 - accuracy: 0.3511 - val_loss: 0.0000e+00 - val_accuracy: 0.3171\n",
            "Epoch 58/200\n",
            "3/3 [==============================] - 0s 12ms/step - loss: 0.0000e+00 - accuracy: 0.3511 - val_loss: 0.0000e+00 - val_accuracy: 0.3171\n",
            "Epoch 59/200\n",
            "3/3 [==============================] - 0s 12ms/step - loss: 0.0000e+00 - accuracy: 0.3511 - val_loss: 0.0000e+00 - val_accuracy: 0.3171\n",
            "Epoch 60/200\n",
            "3/3 [==============================] - 0s 11ms/step - loss: 0.0000e+00 - accuracy: 0.3511 - val_loss: 0.0000e+00 - val_accuracy: 0.3171\n",
            "Epoch 61/200\n",
            "3/3 [==============================] - 0s 11ms/step - loss: 0.0000e+00 - accuracy: 0.3511 - val_loss: 0.0000e+00 - val_accuracy: 0.3171\n",
            "Epoch 62/200\n",
            "3/3 [==============================] - 0s 14ms/step - loss: 0.0000e+00 - accuracy: 0.3511 - val_loss: 0.0000e+00 - val_accuracy: 0.3171\n",
            "Epoch 63/200\n",
            "3/3 [==============================] - 0s 12ms/step - loss: 0.0000e+00 - accuracy: 0.3511 - val_loss: 0.0000e+00 - val_accuracy: 0.3171\n",
            "Epoch 64/200\n",
            "3/3 [==============================] - 0s 12ms/step - loss: 0.0000e+00 - accuracy: 0.3511 - val_loss: 0.0000e+00 - val_accuracy: 0.3171\n",
            "Epoch 65/200\n",
            "3/3 [==============================] - 0s 12ms/step - loss: 0.0000e+00 - accuracy: 0.3511 - val_loss: 0.0000e+00 - val_accuracy: 0.3171\n",
            "Epoch 66/200\n",
            "3/3 [==============================] - 0s 12ms/step - loss: 0.0000e+00 - accuracy: 0.3511 - val_loss: 0.0000e+00 - val_accuracy: 0.3171\n",
            "Epoch 67/200\n",
            "3/3 [==============================] - 0s 12ms/step - loss: 0.0000e+00 - accuracy: 0.3511 - val_loss: 0.0000e+00 - val_accuracy: 0.3171\n",
            "Epoch 68/200\n",
            "3/3 [==============================] - 0s 12ms/step - loss: 0.0000e+00 - accuracy: 0.3511 - val_loss: 0.0000e+00 - val_accuracy: 0.3171\n",
            "Epoch 69/200\n",
            "3/3 [==============================] - 0s 13ms/step - loss: 0.0000e+00 - accuracy: 0.3511 - val_loss: 0.0000e+00 - val_accuracy: 0.3171\n",
            "Epoch 70/200\n",
            "3/3 [==============================] - 0s 11ms/step - loss: 0.0000e+00 - accuracy: 0.3511 - val_loss: 0.0000e+00 - val_accuracy: 0.3171\n",
            "Epoch 71/200\n",
            "3/3 [==============================] - 0s 12ms/step - loss: 0.0000e+00 - accuracy: 0.3511 - val_loss: 0.0000e+00 - val_accuracy: 0.3171\n",
            "Epoch 72/200\n",
            "3/3 [==============================] - 0s 13ms/step - loss: 0.0000e+00 - accuracy: 0.3511 - val_loss: 0.0000e+00 - val_accuracy: 0.3171\n",
            "Epoch 73/200\n",
            "3/3 [==============================] - 0s 12ms/step - loss: 0.0000e+00 - accuracy: 0.3511 - val_loss: 0.0000e+00 - val_accuracy: 0.3171\n",
            "Epoch 74/200\n",
            "3/3 [==============================] - 0s 12ms/step - loss: 0.0000e+00 - accuracy: 0.3511 - val_loss: 0.0000e+00 - val_accuracy: 0.3171\n",
            "Epoch 75/200\n",
            "3/3 [==============================] - 0s 12ms/step - loss: 0.0000e+00 - accuracy: 0.3511 - val_loss: 0.0000e+00 - val_accuracy: 0.3171\n",
            "Epoch 76/200\n",
            "3/3 [==============================] - 0s 11ms/step - loss: 0.0000e+00 - accuracy: 0.3511 - val_loss: 0.0000e+00 - val_accuracy: 0.3171\n",
            "Epoch 77/200\n",
            "3/3 [==============================] - 0s 12ms/step - loss: 0.0000e+00 - accuracy: 0.3511 - val_loss: 0.0000e+00 - val_accuracy: 0.3171\n",
            "Epoch 78/200\n",
            "3/3 [==============================] - 0s 12ms/step - loss: 0.0000e+00 - accuracy: 0.3511 - val_loss: 0.0000e+00 - val_accuracy: 0.3171\n",
            "Epoch 79/200\n",
            "3/3 [==============================] - 0s 12ms/step - loss: 0.0000e+00 - accuracy: 0.3511 - val_loss: 0.0000e+00 - val_accuracy: 0.3171\n",
            "Epoch 80/200\n",
            "3/3 [==============================] - 0s 13ms/step - loss: 0.0000e+00 - accuracy: 0.3511 - val_loss: 0.0000e+00 - val_accuracy: 0.3171\n",
            "Epoch 81/200\n",
            "3/3 [==============================] - 0s 14ms/step - loss: 0.0000e+00 - accuracy: 0.3511 - val_loss: 0.0000e+00 - val_accuracy: 0.3171\n",
            "Epoch 82/200\n",
            "3/3 [==============================] - 0s 11ms/step - loss: 0.0000e+00 - accuracy: 0.3511 - val_loss: 0.0000e+00 - val_accuracy: 0.3171\n",
            "Epoch 83/200\n",
            "3/3 [==============================] - 0s 12ms/step - loss: 0.0000e+00 - accuracy: 0.3511 - val_loss: 0.0000e+00 - val_accuracy: 0.3171\n",
            "Epoch 84/200\n",
            "3/3 [==============================] - 0s 12ms/step - loss: 0.0000e+00 - accuracy: 0.3511 - val_loss: 0.0000e+00 - val_accuracy: 0.3171\n",
            "Epoch 85/200\n",
            "3/3 [==============================] - 0s 12ms/step - loss: 0.0000e+00 - accuracy: 0.3511 - val_loss: 0.0000e+00 - val_accuracy: 0.3171\n",
            "Epoch 86/200\n",
            "3/3 [==============================] - 0s 11ms/step - loss: 0.0000e+00 - accuracy: 0.3511 - val_loss: 0.0000e+00 - val_accuracy: 0.3171\n",
            "Epoch 87/200\n",
            "3/3 [==============================] - 0s 12ms/step - loss: 0.0000e+00 - accuracy: 0.3511 - val_loss: 0.0000e+00 - val_accuracy: 0.3171\n",
            "Epoch 88/200\n",
            "3/3 [==============================] - 0s 11ms/step - loss: 0.0000e+00 - accuracy: 0.3511 - val_loss: 0.0000e+00 - val_accuracy: 0.3171\n",
            "Epoch 89/200\n",
            "3/3 [==============================] - 0s 11ms/step - loss: 0.0000e+00 - accuracy: 0.3511 - val_loss: 0.0000e+00 - val_accuracy: 0.3171\n",
            "Epoch 90/200\n",
            "3/3 [==============================] - 0s 12ms/step - loss: 0.0000e+00 - accuracy: 0.3511 - val_loss: 0.0000e+00 - val_accuracy: 0.3171\n",
            "Epoch 91/200\n",
            "3/3 [==============================] - 0s 13ms/step - loss: 0.0000e+00 - accuracy: 0.3511 - val_loss: 0.0000e+00 - val_accuracy: 0.3171\n",
            "Epoch 92/200\n",
            "3/3 [==============================] - 0s 12ms/step - loss: 0.0000e+00 - accuracy: 0.3511 - val_loss: 0.0000e+00 - val_accuracy: 0.3171\n",
            "Epoch 93/200\n",
            "3/3 [==============================] - 0s 13ms/step - loss: 0.0000e+00 - accuracy: 0.3511 - val_loss: 0.0000e+00 - val_accuracy: 0.3171\n",
            "Epoch 94/200\n",
            "3/3 [==============================] - 0s 11ms/step - loss: 0.0000e+00 - accuracy: 0.3511 - val_loss: 0.0000e+00 - val_accuracy: 0.3171\n",
            "Epoch 95/200\n",
            "3/3 [==============================] - 0s 11ms/step - loss: 0.0000e+00 - accuracy: 0.3511 - val_loss: 0.0000e+00 - val_accuracy: 0.3171\n",
            "Epoch 96/200\n",
            "3/3 [==============================] - 0s 11ms/step - loss: 0.0000e+00 - accuracy: 0.3511 - val_loss: 0.0000e+00 - val_accuracy: 0.3171\n",
            "Epoch 97/200\n",
            "3/3 [==============================] - 0s 12ms/step - loss: 0.0000e+00 - accuracy: 0.3511 - val_loss: 0.0000e+00 - val_accuracy: 0.3171\n",
            "Epoch 98/200\n",
            "3/3 [==============================] - 0s 11ms/step - loss: 0.0000e+00 - accuracy: 0.3511 - val_loss: 0.0000e+00 - val_accuracy: 0.3171\n",
            "Epoch 99/200\n",
            "3/3 [==============================] - 0s 12ms/step - loss: 0.0000e+00 - accuracy: 0.3511 - val_loss: 0.0000e+00 - val_accuracy: 0.3171\n",
            "Epoch 100/200\n",
            "3/3 [==============================] - 0s 11ms/step - loss: 0.0000e+00 - accuracy: 0.3511 - val_loss: 0.0000e+00 - val_accuracy: 0.3171\n",
            "Epoch 101/200\n",
            "3/3 [==============================] - 0s 15ms/step - loss: 0.0000e+00 - accuracy: 0.3511 - val_loss: 0.0000e+00 - val_accuracy: 0.3171\n",
            "Epoch 102/200\n",
            "3/3 [==============================] - 0s 11ms/step - loss: 0.0000e+00 - accuracy: 0.3511 - val_loss: 0.0000e+00 - val_accuracy: 0.3171\n",
            "Epoch 103/200\n",
            "3/3 [==============================] - 0s 11ms/step - loss: 0.0000e+00 - accuracy: 0.3511 - val_loss: 0.0000e+00 - val_accuracy: 0.3171\n",
            "Epoch 104/200\n",
            "3/3 [==============================] - 0s 11ms/step - loss: 0.0000e+00 - accuracy: 0.3511 - val_loss: 0.0000e+00 - val_accuracy: 0.3171\n",
            "Epoch 105/200\n",
            "3/3 [==============================] - 0s 12ms/step - loss: 0.0000e+00 - accuracy: 0.3511 - val_loss: 0.0000e+00 - val_accuracy: 0.3171\n",
            "Epoch 106/200\n",
            "3/3 [==============================] - 0s 11ms/step - loss: 0.0000e+00 - accuracy: 0.3511 - val_loss: 0.0000e+00 - val_accuracy: 0.3171\n",
            "Epoch 107/200\n",
            "3/3 [==============================] - 0s 11ms/step - loss: 0.0000e+00 - accuracy: 0.3511 - val_loss: 0.0000e+00 - val_accuracy: 0.3171\n",
            "Epoch 108/200\n",
            "3/3 [==============================] - 0s 12ms/step - loss: 0.0000e+00 - accuracy: 0.3511 - val_loss: 0.0000e+00 - val_accuracy: 0.3171\n",
            "Epoch 109/200\n",
            "3/3 [==============================] - 0s 13ms/step - loss: 0.0000e+00 - accuracy: 0.3511 - val_loss: 0.0000e+00 - val_accuracy: 0.3171\n",
            "Epoch 110/200\n",
            "3/3 [==============================] - 0s 14ms/step - loss: 0.0000e+00 - accuracy: 0.3511 - val_loss: 0.0000e+00 - val_accuracy: 0.3171\n",
            "Epoch 111/200\n",
            "3/3 [==============================] - 0s 12ms/step - loss: 0.0000e+00 - accuracy: 0.3511 - val_loss: 0.0000e+00 - val_accuracy: 0.3171\n",
            "Epoch 112/200\n",
            "3/3 [==============================] - 0s 11ms/step - loss: 0.0000e+00 - accuracy: 0.3511 - val_loss: 0.0000e+00 - val_accuracy: 0.3171\n",
            "Epoch 113/200\n",
            "3/3 [==============================] - 0s 11ms/step - loss: 0.0000e+00 - accuracy: 0.3511 - val_loss: 0.0000e+00 - val_accuracy: 0.3171\n",
            "Epoch 114/200\n",
            "3/3 [==============================] - 0s 12ms/step - loss: 0.0000e+00 - accuracy: 0.3511 - val_loss: 0.0000e+00 - val_accuracy: 0.3171\n",
            "Epoch 115/200\n",
            "3/3 [==============================] - 0s 12ms/step - loss: 0.0000e+00 - accuracy: 0.3511 - val_loss: 0.0000e+00 - val_accuracy: 0.3171\n",
            "Epoch 116/200\n",
            "3/3 [==============================] - 0s 12ms/step - loss: 0.0000e+00 - accuracy: 0.3511 - val_loss: 0.0000e+00 - val_accuracy: 0.3171\n",
            "Epoch 117/200\n",
            "3/3 [==============================] - 0s 12ms/step - loss: 0.0000e+00 - accuracy: 0.3511 - val_loss: 0.0000e+00 - val_accuracy: 0.3171\n",
            "Epoch 118/200\n",
            "3/3 [==============================] - 0s 14ms/step - loss: 0.0000e+00 - accuracy: 0.3511 - val_loss: 0.0000e+00 - val_accuracy: 0.3171\n",
            "Epoch 119/200\n",
            "3/3 [==============================] - 0s 14ms/step - loss: 0.0000e+00 - accuracy: 0.3511 - val_loss: 0.0000e+00 - val_accuracy: 0.3171\n",
            "Epoch 120/200\n",
            "3/3 [==============================] - 0s 14ms/step - loss: 0.0000e+00 - accuracy: 0.3511 - val_loss: 0.0000e+00 - val_accuracy: 0.3171\n",
            "Epoch 121/200\n",
            "3/3 [==============================] - 0s 12ms/step - loss: 0.0000e+00 - accuracy: 0.3511 - val_loss: 0.0000e+00 - val_accuracy: 0.3171\n",
            "Epoch 122/200\n",
            "3/3 [==============================] - 0s 12ms/step - loss: 0.0000e+00 - accuracy: 0.3511 - val_loss: 0.0000e+00 - val_accuracy: 0.3171\n",
            "Epoch 123/200\n",
            "3/3 [==============================] - 0s 12ms/step - loss: 0.0000e+00 - accuracy: 0.3511 - val_loss: 0.0000e+00 - val_accuracy: 0.3171\n",
            "Epoch 124/200\n",
            "3/3 [==============================] - 0s 11ms/step - loss: 0.0000e+00 - accuracy: 0.3511 - val_loss: 0.0000e+00 - val_accuracy: 0.3171\n",
            "Epoch 125/200\n",
            "3/3 [==============================] - 0s 11ms/step - loss: 0.0000e+00 - accuracy: 0.3511 - val_loss: 0.0000e+00 - val_accuracy: 0.3171\n",
            "Epoch 126/200\n",
            "3/3 [==============================] - 0s 11ms/step - loss: 0.0000e+00 - accuracy: 0.3511 - val_loss: 0.0000e+00 - val_accuracy: 0.3171\n",
            "Epoch 127/200\n",
            "3/3 [==============================] - 0s 12ms/step - loss: 0.0000e+00 - accuracy: 0.3511 - val_loss: 0.0000e+00 - val_accuracy: 0.3171\n",
            "Epoch 128/200\n",
            "3/3 [==============================] - 0s 12ms/step - loss: 0.0000e+00 - accuracy: 0.3511 - val_loss: 0.0000e+00 - val_accuracy: 0.3171\n",
            "Epoch 129/200\n",
            "3/3 [==============================] - 0s 13ms/step - loss: 0.0000e+00 - accuracy: 0.3511 - val_loss: 0.0000e+00 - val_accuracy: 0.3171\n",
            "Epoch 130/200\n",
            "3/3 [==============================] - 0s 12ms/step - loss: 0.0000e+00 - accuracy: 0.3511 - val_loss: 0.0000e+00 - val_accuracy: 0.3171\n",
            "Epoch 131/200\n",
            "3/3 [==============================] - 0s 12ms/step - loss: 0.0000e+00 - accuracy: 0.3511 - val_loss: 0.0000e+00 - val_accuracy: 0.3171\n",
            "Epoch 132/200\n",
            "3/3 [==============================] - 0s 14ms/step - loss: 0.0000e+00 - accuracy: 0.3511 - val_loss: 0.0000e+00 - val_accuracy: 0.3171\n",
            "Epoch 133/200\n",
            "3/3 [==============================] - 0s 13ms/step - loss: 0.0000e+00 - accuracy: 0.3511 - val_loss: 0.0000e+00 - val_accuracy: 0.3171\n",
            "Epoch 134/200\n",
            "3/3 [==============================] - 0s 12ms/step - loss: 0.0000e+00 - accuracy: 0.3511 - val_loss: 0.0000e+00 - val_accuracy: 0.3171\n",
            "Epoch 135/200\n",
            "3/3 [==============================] - 0s 11ms/step - loss: 0.0000e+00 - accuracy: 0.3511 - val_loss: 0.0000e+00 - val_accuracy: 0.3171\n",
            "Epoch 136/200\n",
            "3/3 [==============================] - 0s 12ms/step - loss: 0.0000e+00 - accuracy: 0.3511 - val_loss: 0.0000e+00 - val_accuracy: 0.3171\n",
            "Epoch 137/200\n",
            "3/3 [==============================] - 0s 11ms/step - loss: 0.0000e+00 - accuracy: 0.3511 - val_loss: 0.0000e+00 - val_accuracy: 0.3171\n",
            "Epoch 138/200\n",
            "3/3 [==============================] - 0s 12ms/step - loss: 0.0000e+00 - accuracy: 0.3511 - val_loss: 0.0000e+00 - val_accuracy: 0.3171\n",
            "Epoch 139/200\n",
            "3/3 [==============================] - 0s 14ms/step - loss: 0.0000e+00 - accuracy: 0.3511 - val_loss: 0.0000e+00 - val_accuracy: 0.3171\n",
            "Epoch 140/200\n",
            "3/3 [==============================] - 0s 13ms/step - loss: 0.0000e+00 - accuracy: 0.3511 - val_loss: 0.0000e+00 - val_accuracy: 0.3171\n",
            "Epoch 141/200\n",
            "3/3 [==============================] - 0s 12ms/step - loss: 0.0000e+00 - accuracy: 0.3511 - val_loss: 0.0000e+00 - val_accuracy: 0.3171\n",
            "Epoch 142/200\n",
            "3/3 [==============================] - 0s 13ms/step - loss: 0.0000e+00 - accuracy: 0.3511 - val_loss: 0.0000e+00 - val_accuracy: 0.3171\n",
            "Epoch 143/200\n",
            "3/3 [==============================] - 0s 12ms/step - loss: 0.0000e+00 - accuracy: 0.3511 - val_loss: 0.0000e+00 - val_accuracy: 0.3171\n",
            "Epoch 144/200\n",
            "3/3 [==============================] - 0s 11ms/step - loss: 0.0000e+00 - accuracy: 0.3511 - val_loss: 0.0000e+00 - val_accuracy: 0.3171\n",
            "Epoch 145/200\n",
            "3/3 [==============================] - 0s 12ms/step - loss: 0.0000e+00 - accuracy: 0.3511 - val_loss: 0.0000e+00 - val_accuracy: 0.3171\n",
            "Epoch 146/200\n",
            "3/3 [==============================] - 0s 12ms/step - loss: 0.0000e+00 - accuracy: 0.3511 - val_loss: 0.0000e+00 - val_accuracy: 0.3171\n",
            "Epoch 147/200\n",
            "3/3 [==============================] - 0s 11ms/step - loss: 0.0000e+00 - accuracy: 0.3511 - val_loss: 0.0000e+00 - val_accuracy: 0.3171\n",
            "Epoch 148/200\n",
            "3/3 [==============================] - 0s 12ms/step - loss: 0.0000e+00 - accuracy: 0.3511 - val_loss: 0.0000e+00 - val_accuracy: 0.3171\n",
            "Epoch 149/200\n",
            "3/3 [==============================] - 0s 15ms/step - loss: 0.0000e+00 - accuracy: 0.3511 - val_loss: 0.0000e+00 - val_accuracy: 0.3171\n",
            "Epoch 150/200\n",
            "3/3 [==============================] - 0s 12ms/step - loss: 0.0000e+00 - accuracy: 0.3511 - val_loss: 0.0000e+00 - val_accuracy: 0.3171\n",
            "Epoch 151/200\n",
            "3/3 [==============================] - 0s 11ms/step - loss: 0.0000e+00 - accuracy: 0.3511 - val_loss: 0.0000e+00 - val_accuracy: 0.3171\n",
            "Epoch 152/200\n",
            "3/3 [==============================] - 0s 12ms/step - loss: 0.0000e+00 - accuracy: 0.3511 - val_loss: 0.0000e+00 - val_accuracy: 0.3171\n",
            "Epoch 153/200\n",
            "3/3 [==============================] - 0s 12ms/step - loss: 0.0000e+00 - accuracy: 0.3511 - val_loss: 0.0000e+00 - val_accuracy: 0.3171\n",
            "Epoch 154/200\n",
            "3/3 [==============================] - 0s 12ms/step - loss: 0.0000e+00 - accuracy: 0.3511 - val_loss: 0.0000e+00 - val_accuracy: 0.3171\n",
            "Epoch 155/200\n",
            "3/3 [==============================] - 0s 12ms/step - loss: 0.0000e+00 - accuracy: 0.3511 - val_loss: 0.0000e+00 - val_accuracy: 0.3171\n",
            "Epoch 156/200\n",
            "3/3 [==============================] - 0s 11ms/step - loss: 0.0000e+00 - accuracy: 0.3511 - val_loss: 0.0000e+00 - val_accuracy: 0.3171\n",
            "Epoch 157/200\n",
            "3/3 [==============================] - 0s 12ms/step - loss: 0.0000e+00 - accuracy: 0.3511 - val_loss: 0.0000e+00 - val_accuracy: 0.3171\n",
            "Epoch 158/200\n",
            "3/3 [==============================] - 0s 14ms/step - loss: 0.0000e+00 - accuracy: 0.3511 - val_loss: 0.0000e+00 - val_accuracy: 0.3171\n",
            "Epoch 159/200\n",
            "3/3 [==============================] - 0s 12ms/step - loss: 0.0000e+00 - accuracy: 0.3511 - val_loss: 0.0000e+00 - val_accuracy: 0.3171\n",
            "Epoch 160/200\n",
            "3/3 [==============================] - 0s 12ms/step - loss: 0.0000e+00 - accuracy: 0.3511 - val_loss: 0.0000e+00 - val_accuracy: 0.3171\n",
            "Epoch 161/200\n",
            "3/3 [==============================] - 0s 12ms/step - loss: 0.0000e+00 - accuracy: 0.3511 - val_loss: 0.0000e+00 - val_accuracy: 0.3171\n",
            "Epoch 162/200\n",
            "3/3 [==============================] - 0s 11ms/step - loss: 0.0000e+00 - accuracy: 0.3511 - val_loss: 0.0000e+00 - val_accuracy: 0.3171\n",
            "Epoch 163/200\n",
            "3/3 [==============================] - 0s 11ms/step - loss: 0.0000e+00 - accuracy: 0.3511 - val_loss: 0.0000e+00 - val_accuracy: 0.3171\n",
            "Epoch 164/200\n",
            "3/3 [==============================] - 0s 12ms/step - loss: 0.0000e+00 - accuracy: 0.3511 - val_loss: 0.0000e+00 - val_accuracy: 0.3171\n",
            "Epoch 165/200\n",
            "3/3 [==============================] - 0s 12ms/step - loss: 0.0000e+00 - accuracy: 0.3511 - val_loss: 0.0000e+00 - val_accuracy: 0.3171\n",
            "Epoch 166/200\n",
            "3/3 [==============================] - 0s 12ms/step - loss: 0.0000e+00 - accuracy: 0.3511 - val_loss: 0.0000e+00 - val_accuracy: 0.3171\n",
            "Epoch 167/200\n",
            "3/3 [==============================] - 0s 15ms/step - loss: 0.0000e+00 - accuracy: 0.3511 - val_loss: 0.0000e+00 - val_accuracy: 0.3171\n",
            "Epoch 168/200\n",
            "3/3 [==============================] - 0s 15ms/step - loss: 0.0000e+00 - accuracy: 0.3511 - val_loss: 0.0000e+00 - val_accuracy: 0.3171\n",
            "Epoch 169/200\n",
            "3/3 [==============================] - 0s 13ms/step - loss: 0.0000e+00 - accuracy: 0.3511 - val_loss: 0.0000e+00 - val_accuracy: 0.3171\n",
            "Epoch 170/200\n",
            "3/3 [==============================] - 0s 13ms/step - loss: 0.0000e+00 - accuracy: 0.3511 - val_loss: 0.0000e+00 - val_accuracy: 0.3171\n",
            "Epoch 171/200\n",
            "3/3 [==============================] - 0s 13ms/step - loss: 0.0000e+00 - accuracy: 0.3511 - val_loss: 0.0000e+00 - val_accuracy: 0.3171\n",
            "Epoch 172/200\n",
            "3/3 [==============================] - 0s 13ms/step - loss: 0.0000e+00 - accuracy: 0.3511 - val_loss: 0.0000e+00 - val_accuracy: 0.3171\n",
            "Epoch 173/200\n",
            "3/3 [==============================] - 0s 12ms/step - loss: 0.0000e+00 - accuracy: 0.3511 - val_loss: 0.0000e+00 - val_accuracy: 0.3171\n",
            "Epoch 174/200\n",
            "3/3 [==============================] - 0s 14ms/step - loss: 0.0000e+00 - accuracy: 0.3511 - val_loss: 0.0000e+00 - val_accuracy: 0.3171\n",
            "Epoch 175/200\n",
            "3/3 [==============================] - 0s 13ms/step - loss: 0.0000e+00 - accuracy: 0.3511 - val_loss: 0.0000e+00 - val_accuracy: 0.3171\n",
            "Epoch 176/200\n",
            "3/3 [==============================] - 0s 14ms/step - loss: 0.0000e+00 - accuracy: 0.3511 - val_loss: 0.0000e+00 - val_accuracy: 0.3171\n",
            "Epoch 177/200\n",
            "3/3 [==============================] - 0s 13ms/step - loss: 0.0000e+00 - accuracy: 0.3511 - val_loss: 0.0000e+00 - val_accuracy: 0.3171\n",
            "Epoch 178/200\n",
            "3/3 [==============================] - 0s 15ms/step - loss: 0.0000e+00 - accuracy: 0.3511 - val_loss: 0.0000e+00 - val_accuracy: 0.3171\n",
            "Epoch 179/200\n",
            "3/3 [==============================] - 0s 11ms/step - loss: 0.0000e+00 - accuracy: 0.3511 - val_loss: 0.0000e+00 - val_accuracy: 0.3171\n",
            "Epoch 180/200\n",
            "3/3 [==============================] - 0s 12ms/step - loss: 0.0000e+00 - accuracy: 0.3511 - val_loss: 0.0000e+00 - val_accuracy: 0.3171\n",
            "Epoch 181/200\n",
            "3/3 [==============================] - 0s 12ms/step - loss: 0.0000e+00 - accuracy: 0.3511 - val_loss: 0.0000e+00 - val_accuracy: 0.3171\n",
            "Epoch 182/200\n",
            "3/3 [==============================] - 0s 12ms/step - loss: 0.0000e+00 - accuracy: 0.3511 - val_loss: 0.0000e+00 - val_accuracy: 0.3171\n",
            "Epoch 183/200\n",
            "3/3 [==============================] - 0s 12ms/step - loss: 0.0000e+00 - accuracy: 0.3511 - val_loss: 0.0000e+00 - val_accuracy: 0.3171\n",
            "Epoch 184/200\n",
            "3/3 [==============================] - 0s 12ms/step - loss: 0.0000e+00 - accuracy: 0.3511 - val_loss: 0.0000e+00 - val_accuracy: 0.3171\n",
            "Epoch 185/200\n",
            "3/3 [==============================] - 0s 12ms/step - loss: 0.0000e+00 - accuracy: 0.3511 - val_loss: 0.0000e+00 - val_accuracy: 0.3171\n",
            "Epoch 186/200\n",
            "3/3 [==============================] - 0s 12ms/step - loss: 0.0000e+00 - accuracy: 0.3511 - val_loss: 0.0000e+00 - val_accuracy: 0.3171\n",
            "Epoch 187/200\n",
            "3/3 [==============================] - 0s 16ms/step - loss: 0.0000e+00 - accuracy: 0.3511 - val_loss: 0.0000e+00 - val_accuracy: 0.3171\n",
            "Epoch 188/200\n",
            "3/3 [==============================] - 0s 77ms/step - loss: 0.0000e+00 - accuracy: 0.3511 - val_loss: 0.0000e+00 - val_accuracy: 0.3171\n",
            "Epoch 189/200\n",
            "3/3 [==============================] - 0s 12ms/step - loss: 0.0000e+00 - accuracy: 0.3511 - val_loss: 0.0000e+00 - val_accuracy: 0.3171\n",
            "Epoch 190/200\n",
            "3/3 [==============================] - 0s 11ms/step - loss: 0.0000e+00 - accuracy: 0.3511 - val_loss: 0.0000e+00 - val_accuracy: 0.3171\n",
            "Epoch 191/200\n",
            "3/3 [==============================] - 0s 11ms/step - loss: 0.0000e+00 - accuracy: 0.3511 - val_loss: 0.0000e+00 - val_accuracy: 0.3171\n",
            "Epoch 192/200\n",
            "3/3 [==============================] - 0s 12ms/step - loss: 0.0000e+00 - accuracy: 0.3511 - val_loss: 0.0000e+00 - val_accuracy: 0.3171\n",
            "Epoch 193/200\n",
            "3/3 [==============================] - 0s 11ms/step - loss: 0.0000e+00 - accuracy: 0.3511 - val_loss: 0.0000e+00 - val_accuracy: 0.3171\n",
            "Epoch 194/200\n",
            "3/3 [==============================] - 0s 11ms/step - loss: 0.0000e+00 - accuracy: 0.3511 - val_loss: 0.0000e+00 - val_accuracy: 0.3171\n",
            "Epoch 195/200\n",
            "3/3 [==============================] - 0s 12ms/step - loss: 0.0000e+00 - accuracy: 0.3511 - val_loss: 0.0000e+00 - val_accuracy: 0.3171\n",
            "Epoch 196/200\n",
            "3/3 [==============================] - 0s 12ms/step - loss: 0.0000e+00 - accuracy: 0.3511 - val_loss: 0.0000e+00 - val_accuracy: 0.3171\n",
            "Epoch 197/200\n",
            "3/3 [==============================] - 0s 14ms/step - loss: 0.0000e+00 - accuracy: 0.3511 - val_loss: 0.0000e+00 - val_accuracy: 0.3171\n",
            "Epoch 198/200\n",
            "3/3 [==============================] - 0s 13ms/step - loss: 0.0000e+00 - accuracy: 0.3511 - val_loss: 0.0000e+00 - val_accuracy: 0.3171\n",
            "Epoch 199/200\n",
            "3/3 [==============================] - 0s 13ms/step - loss: 0.0000e+00 - accuracy: 0.3511 - val_loss: 0.0000e+00 - val_accuracy: 0.3171\n",
            "Epoch 200/200\n",
            "3/3 [==============================] - 0s 12ms/step - loss: 0.0000e+00 - accuracy: 0.3511 - val_loss: 0.0000e+00 - val_accuracy: 0.3171\n"
          ],
          "name": "stdout"
        }
      ]
    },
    {
      "cell_type": "code",
      "metadata": {
        "id": "bjTwLV_J5x7o",
        "colab_type": "code",
        "colab": {}
      },
      "source": [
        "P = model.predict_proba(X_test)\n",
        "P = np.round(P).flatten()\n",
        "print(P)"
      ],
      "execution_count": 0,
      "outputs": []
    },
    {
      "cell_type": "code",
      "metadata": {
        "id": "R9KLw8j-BpPv",
        "colab_type": "code",
        "colab": {}
      },
      "source": [
        "P = P.tolist()\n",
        "Q = []\n",
        "for i in P:\n",
        "  Q.append(math.trunc(i))\n",
        "Q"
      ],
      "execution_count": 0,
      "outputs": []
    },
    {
      "cell_type": "code",
      "metadata": {
        "id": "Yjf0c7UbBwiS",
        "colab_type": "code",
        "outputId": "2e404012-c0a0-4eb1-e38d-cafd98201757",
        "colab": {
          "base_uri": "https://localhost:8080/",
          "height": 424
        }
      },
      "source": [
        "id = df2['Id'].to_list()\n",
        "Y_pred = pd.DataFrame(list(zip(id, Q)), \n",
        "               columns =['Id', 'city']) \n",
        "Y_pred"
      ],
      "execution_count": 0,
      "outputs": [
        {
          "output_type": "execute_result",
          "data": {
            "text/html": [
              "<div>\n",
              "<style scoped>\n",
              "    .dataframe tbody tr th:only-of-type {\n",
              "        vertical-align: middle;\n",
              "    }\n",
              "\n",
              "    .dataframe tbody tr th {\n",
              "        vertical-align: top;\n",
              "    }\n",
              "\n",
              "    .dataframe thead th {\n",
              "        text-align: right;\n",
              "    }\n",
              "</style>\n",
              "<table border=\"1\" class=\"dataframe\">\n",
              "  <thead>\n",
              "    <tr style=\"text-align: right;\">\n",
              "      <th></th>\n",
              "      <th>Id</th>\n",
              "      <th>city</th>\n",
              "    </tr>\n",
              "  </thead>\n",
              "  <tbody>\n",
              "    <tr>\n",
              "      <th>0</th>\n",
              "      <td>1</td>\n",
              "      <td>0</td>\n",
              "    </tr>\n",
              "    <tr>\n",
              "      <th>1</th>\n",
              "      <td>3</td>\n",
              "      <td>0</td>\n",
              "    </tr>\n",
              "    <tr>\n",
              "      <th>2</th>\n",
              "      <td>4</td>\n",
              "      <td>0</td>\n",
              "    </tr>\n",
              "    <tr>\n",
              "      <th>3</th>\n",
              "      <td>6</td>\n",
              "      <td>0</td>\n",
              "    </tr>\n",
              "    <tr>\n",
              "      <th>4</th>\n",
              "      <td>9</td>\n",
              "      <td>0</td>\n",
              "    </tr>\n",
              "    <tr>\n",
              "      <th>...</th>\n",
              "      <td>...</td>\n",
              "      <td>...</td>\n",
              "    </tr>\n",
              "    <tr>\n",
              "      <th>74</th>\n",
              "      <td>203</td>\n",
              "      <td>0</td>\n",
              "    </tr>\n",
              "    <tr>\n",
              "      <th>75</th>\n",
              "      <td>204</td>\n",
              "      <td>0</td>\n",
              "    </tr>\n",
              "    <tr>\n",
              "      <th>76</th>\n",
              "      <td>206</td>\n",
              "      <td>0</td>\n",
              "    </tr>\n",
              "    <tr>\n",
              "      <th>77</th>\n",
              "      <td>209</td>\n",
              "      <td>0</td>\n",
              "    </tr>\n",
              "    <tr>\n",
              "      <th>78</th>\n",
              "      <td>212</td>\n",
              "      <td>1</td>\n",
              "    </tr>\n",
              "  </tbody>\n",
              "</table>\n",
              "<p>79 rows × 2 columns</p>\n",
              "</div>"
            ],
            "text/plain": [
              "     Id  city\n",
              "0     1     0\n",
              "1     3     0\n",
              "2     4     0\n",
              "3     6     0\n",
              "4     9     0\n",
              "..  ...   ...\n",
              "74  203     0\n",
              "75  204     0\n",
              "76  206     0\n",
              "77  209     0\n",
              "78  212     1\n",
              "\n",
              "[79 rows x 2 columns]"
            ]
          },
          "metadata": {
            "tags": []
          },
          "execution_count": 38
        }
      ]
    },
    {
      "cell_type": "code",
      "metadata": {
        "id": "SWaFDj12B8yp",
        "colab_type": "code",
        "colab": {}
      },
      "source": [
        "replace_map = {'city': {0:1, 1: 2, 2: 3, 3: 4, 4: 5, 5: 6, 6: 7}}\n",
        "Y_pred.replace(replace_map, inplace=True)"
      ],
      "execution_count": 0,
      "outputs": []
    },
    {
      "cell_type": "code",
      "metadata": {
        "id": "ddEzfyQKCjRu",
        "colab_type": "code",
        "outputId": "d926a8de-6558-441a-e1a5-01906b5f6cc8",
        "colab": {
          "base_uri": "https://localhost:8080/",
          "height": 424
        }
      },
      "source": [
        "Y_pred"
      ],
      "execution_count": 0,
      "outputs": [
        {
          "output_type": "execute_result",
          "data": {
            "text/html": [
              "<div>\n",
              "<style scoped>\n",
              "    .dataframe tbody tr th:only-of-type {\n",
              "        vertical-align: middle;\n",
              "    }\n",
              "\n",
              "    .dataframe tbody tr th {\n",
              "        vertical-align: top;\n",
              "    }\n",
              "\n",
              "    .dataframe thead th {\n",
              "        text-align: right;\n",
              "    }\n",
              "</style>\n",
              "<table border=\"1\" class=\"dataframe\">\n",
              "  <thead>\n",
              "    <tr style=\"text-align: right;\">\n",
              "      <th></th>\n",
              "      <th>Id</th>\n",
              "      <th>city</th>\n",
              "    </tr>\n",
              "  </thead>\n",
              "  <tbody>\n",
              "    <tr>\n",
              "      <th>0</th>\n",
              "      <td>1</td>\n",
              "      <td>1</td>\n",
              "    </tr>\n",
              "    <tr>\n",
              "      <th>1</th>\n",
              "      <td>3</td>\n",
              "      <td>1</td>\n",
              "    </tr>\n",
              "    <tr>\n",
              "      <th>2</th>\n",
              "      <td>4</td>\n",
              "      <td>1</td>\n",
              "    </tr>\n",
              "    <tr>\n",
              "      <th>3</th>\n",
              "      <td>6</td>\n",
              "      <td>1</td>\n",
              "    </tr>\n",
              "    <tr>\n",
              "      <th>4</th>\n",
              "      <td>9</td>\n",
              "      <td>1</td>\n",
              "    </tr>\n",
              "    <tr>\n",
              "      <th>...</th>\n",
              "      <td>...</td>\n",
              "      <td>...</td>\n",
              "    </tr>\n",
              "    <tr>\n",
              "      <th>74</th>\n",
              "      <td>203</td>\n",
              "      <td>1</td>\n",
              "    </tr>\n",
              "    <tr>\n",
              "      <th>75</th>\n",
              "      <td>204</td>\n",
              "      <td>1</td>\n",
              "    </tr>\n",
              "    <tr>\n",
              "      <th>76</th>\n",
              "      <td>206</td>\n",
              "      <td>1</td>\n",
              "    </tr>\n",
              "    <tr>\n",
              "      <th>77</th>\n",
              "      <td>209</td>\n",
              "      <td>1</td>\n",
              "    </tr>\n",
              "    <tr>\n",
              "      <th>78</th>\n",
              "      <td>212</td>\n",
              "      <td>2</td>\n",
              "    </tr>\n",
              "  </tbody>\n",
              "</table>\n",
              "<p>79 rows × 2 columns</p>\n",
              "</div>"
            ],
            "text/plain": [
              "     Id  city\n",
              "0     1     1\n",
              "1     3     1\n",
              "2     4     1\n",
              "3     6     1\n",
              "4     9     1\n",
              "..  ...   ...\n",
              "74  203     1\n",
              "75  204     1\n",
              "76  206     1\n",
              "77  209     1\n",
              "78  212     2\n",
              "\n",
              "[79 rows x 2 columns]"
            ]
          },
          "metadata": {
            "tags": []
          },
          "execution_count": 40
        }
      ]
    },
    {
      "cell_type": "code",
      "metadata": {
        "id": "UnHHU_PuC8CD",
        "colab_type": "code",
        "outputId": "1094a876-a716-4e58-bbbe-8970b03ebf2a",
        "colab": {
          "base_uri": "https://localhost:8080/",
          "height": 455
        }
      },
      "source": [
        "Y_pred.set_index(['Id'], inplace=True)\n",
        "Y_pred"
      ],
      "execution_count": 0,
      "outputs": [
        {
          "output_type": "execute_result",
          "data": {
            "text/html": [
              "<div>\n",
              "<style scoped>\n",
              "    .dataframe tbody tr th:only-of-type {\n",
              "        vertical-align: middle;\n",
              "    }\n",
              "\n",
              "    .dataframe tbody tr th {\n",
              "        vertical-align: top;\n",
              "    }\n",
              "\n",
              "    .dataframe thead th {\n",
              "        text-align: right;\n",
              "    }\n",
              "</style>\n",
              "<table border=\"1\" class=\"dataframe\">\n",
              "  <thead>\n",
              "    <tr style=\"text-align: right;\">\n",
              "      <th></th>\n",
              "      <th>city</th>\n",
              "    </tr>\n",
              "    <tr>\n",
              "      <th>Id</th>\n",
              "      <th></th>\n",
              "    </tr>\n",
              "  </thead>\n",
              "  <tbody>\n",
              "    <tr>\n",
              "      <th>1</th>\n",
              "      <td>1</td>\n",
              "    </tr>\n",
              "    <tr>\n",
              "      <th>3</th>\n",
              "      <td>1</td>\n",
              "    </tr>\n",
              "    <tr>\n",
              "      <th>4</th>\n",
              "      <td>1</td>\n",
              "    </tr>\n",
              "    <tr>\n",
              "      <th>6</th>\n",
              "      <td>1</td>\n",
              "    </tr>\n",
              "    <tr>\n",
              "      <th>9</th>\n",
              "      <td>1</td>\n",
              "    </tr>\n",
              "    <tr>\n",
              "      <th>...</th>\n",
              "      <td>...</td>\n",
              "    </tr>\n",
              "    <tr>\n",
              "      <th>203</th>\n",
              "      <td>1</td>\n",
              "    </tr>\n",
              "    <tr>\n",
              "      <th>204</th>\n",
              "      <td>1</td>\n",
              "    </tr>\n",
              "    <tr>\n",
              "      <th>206</th>\n",
              "      <td>1</td>\n",
              "    </tr>\n",
              "    <tr>\n",
              "      <th>209</th>\n",
              "      <td>1</td>\n",
              "    </tr>\n",
              "    <tr>\n",
              "      <th>212</th>\n",
              "      <td>2</td>\n",
              "    </tr>\n",
              "  </tbody>\n",
              "</table>\n",
              "<p>79 rows × 1 columns</p>\n",
              "</div>"
            ],
            "text/plain": [
              "     city\n",
              "Id       \n",
              "1       1\n",
              "3       1\n",
              "4       1\n",
              "6       1\n",
              "9       1\n",
              "..    ...\n",
              "203     1\n",
              "204     1\n",
              "206     1\n",
              "209     1\n",
              "212     2\n",
              "\n",
              "[79 rows x 1 columns]"
            ]
          },
          "metadata": {
            "tags": []
          },
          "execution_count": 42
        }
      ]
    },
    {
      "cell_type": "code",
      "metadata": {
        "id": "Mr2a_IhZCmaH",
        "colab_type": "code",
        "colab": {}
      },
      "source": [
        "Y_pred.to_csv('city.csv')"
      ],
      "execution_count": 0,
      "outputs": []
    }
  ]
}