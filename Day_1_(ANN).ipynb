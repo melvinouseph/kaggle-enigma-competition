{
  "nbformat": 4,
  "nbformat_minor": 0,
  "metadata": {
    "colab": {
      "name": "Day 1 (ANN).ipynb",
      "provenance": []
    },
    "kernelspec": {
      "name": "python3",
      "display_name": "Python 3"
    }
  },
  "cells": [
    {
      "cell_type": "code",
      "metadata": {
        "id": "H1apztanXUwe",
        "colab_type": "code",
        "colab": {}
      },
      "source": [
        "import numpy as np\n",
        "import pandas as pd\n",
        "import matplotlib.pyplot as plt\n",
        "import tensorflow as tf\n",
        "import io\n",
        "from sklearn.model_selection import train_test_split\n",
        "from sklearn.preprocessing import StandardScaler, MinMaxScaler\n",
        "import math"
      ],
      "execution_count": 0,
      "outputs": []
    },
    {
      "cell_type": "code",
      "metadata": {
        "id": "oFg-KZ6uX06Z",
        "colab_type": "code",
        "outputId": "a34db776-7141-4a5a-c577-05ed5f64d901",
        "colab": {
          "resources": {
            "http://localhost:8080/nbextensions/google.colab/files.js": {
              "data": "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",
              "ok": true,
              "headers": [
                [
                  "content-type",
                  "application/javascript"
                ]
              ],
              "status": 200,
              "status_text": "OK"
            }
          },
          "base_uri": "https://localhost:8080/",
          "height": 117
        }
      },
      "source": [
        "from google.colab import files\n",
        "uploaded = files.upload()"
      ],
      "execution_count": 0,
      "outputs": [
        {
          "output_type": "display_data",
          "data": {
            "text/html": [
              "\n",
              "     <input type=\"file\" id=\"files-2d607957-4f3a-4d86-84e4-e6c9f0e03947\" name=\"files[]\" multiple disabled />\n",
              "     <output id=\"result-2d607957-4f3a-4d86-84e4-e6c9f0e03947\">\n",
              "      Upload widget is only available when the cell has been executed in the\n",
              "      current browser session. Please rerun this cell to enable.\n",
              "      </output>\n",
              "      <script src=\"/nbextensions/google.colab/files.js\"></script> "
            ],
            "text/plain": [
              "<IPython.core.display.HTML object>"
            ]
          },
          "metadata": {
            "tags": []
          }
        },
        {
          "output_type": "stream",
          "text": [
            "Saving train.csv to train.csv\n",
            "Saving test.csv to test.csv\n"
          ],
          "name": "stdout"
        }
      ]
    },
    {
      "cell_type": "code",
      "metadata": {
        "id": "n1IaOVd7X_Wz",
        "colab_type": "code",
        "colab": {}
      },
      "source": [
        "df1 = pd.read_csv(io.BytesIO(uploaded['train.csv']))\n",
        "df2 = pd.read_csv(io.BytesIO(uploaded['test.csv']))"
      ],
      "execution_count": 0,
      "outputs": []
    },
    {
      "cell_type": "code",
      "metadata": {
        "id": "zM9oXX81YJez",
        "colab_type": "code",
        "colab": {}
      },
      "source": [
        "df1['Victory Status'] = df1['Victory Status'].replace(to_replace=2,value=0)"
      ],
      "execution_count": 0,
      "outputs": []
    },
    {
      "cell_type": "code",
      "metadata": {
        "id": "diO3TdG_YfQ_",
        "colab_type": "code",
        "outputId": "60cdaefd-733d-4ce7-b12d-6ca7a6b80c2f",
        "colab": {
          "base_uri": "https://localhost:8080/",
          "height": 121
        }
      },
      "source": [
        "Y = df1['Victory Status'].copy()\n",
        "Y.head()"
      ],
      "execution_count": 0,
      "outputs": [
        {
          "output_type": "execute_result",
          "data": {
            "text/plain": [
              "0    1\n",
              "1    1\n",
              "2    1\n",
              "3    1\n",
              "4    1\n",
              "Name: Victory Status, dtype: int64"
            ]
          },
          "metadata": {
            "tags": []
          },
          "execution_count": 101
        }
      ]
    },
    {
      "cell_type": "code",
      "metadata": {
        "id": "iAMPdg8FZ6c9",
        "colab_type": "code",
        "colab": {}
      },
      "source": [
        "X = df1[['Number of soldiers','Number of tanks','Number of aircrafts']].copy()"
      ],
      "execution_count": 0,
      "outputs": []
    },
    {
      "cell_type": "code",
      "metadata": {
        "id": "ZP5_-LjFaKCq",
        "colab_type": "code",
        "colab": {}
      },
      "source": [
        "X_test = df2[['Number of soldiers','Number of tanks','Number of aircrafts']].copy()"
      ],
      "execution_count": 0,
      "outputs": []
    },
    {
      "cell_type": "code",
      "metadata": {
        "id": "-2doGEv6aRCW",
        "colab_type": "code",
        "colab": {}
      },
      "source": [
        "Y_test = df2['Id'].copy()"
      ],
      "execution_count": 0,
      "outputs": []
    },
    {
      "cell_type": "code",
      "metadata": {
        "id": "iomGdcHgagYq",
        "colab_type": "code",
        "colab": {}
      },
      "source": [
        "scaler = StandardScaler()\n",
        "X = scaler.fit_transform(X)\n",
        "X_test = scaler.transform(X_test)"
      ],
      "execution_count": 0,
      "outputs": []
    },
    {
      "cell_type": "code",
      "metadata": {
        "id": "A0CnDJUlan1p",
        "colab_type": "code",
        "colab": {}
      },
      "source": [
        "X_train, X_val, Y_train, Y_val = train_test_split(X, Y, test_size=0.30)"
      ],
      "execution_count": 0,
      "outputs": []
    },
    {
      "cell_type": "code",
      "metadata": {
        "id": "t5VCdu_alhvV",
        "colab_type": "code",
        "outputId": "b707fcce-de01-44f5-ed4c-a24b6dda6f0b",
        "colab": {
          "base_uri": "https://localhost:8080/",
          "height": 1000
        }
      },
      "source": [
        "X_train"
      ],
      "execution_count": 0,
      "outputs": [
        {
          "output_type": "execute_result",
          "data": {
            "text/plain": [
              "array([[-0.78412493,  1.02183166, -0.55388587],\n",
              "       [-1.0721174 , -1.48993331, -0.55388587],\n",
              "       [ 0.65583738, -1.17596269,  1.70514701],\n",
              "       [-0.11214252,  1.96374352, -0.55388587],\n",
              "       [ 0.55983989,  0.39389041, -0.42100158],\n",
              "       [ 1.23182231, -1.48993331, -0.55388587],\n",
              "       [ 0.46384241, -1.48993331, -0.55388587],\n",
              "       [-0.59212996,  1.33580228, -0.55388587],\n",
              "       [-0.78412493,  0.39389041, -0.55388587],\n",
              "       [ 1.13582482,  1.02183166,  1.43937843],\n",
              "       [-0.20814001,  0.39389041,  0.37630414],\n",
              "       [-1.8400973 ,  1.33580228,  0.37630414],\n",
              "       [ 0.17584994,  1.02183166, -0.55388587],\n",
              "       [ 0.27184743, -0.86199207, -0.55388587],\n",
              "       [ 1.71180975,  1.6497729 , -0.28811729],\n",
              "       [-0.68812745,  0.07991979, -0.55388587],\n",
              "       [-0.97611991,  0.39389041, -0.28811729],\n",
              "       [ 1.51981477,  1.02183166, -0.55388587],\n",
              "       [-1.45610735, -0.86199207, -0.55388587],\n",
              "       [ 0.75183487,  0.39389041, -0.55388587],\n",
              "       [ 0.36784492,  0.39389041, -0.55388587],\n",
              "       [-0.78412493, -1.17596269,  1.30649415],\n",
              "       [ 0.65583738, -0.54802145, -0.42100158],\n",
              "       [ 0.07985246,  0.70786103,  2.50245273],\n",
              "       [-0.97611991, -0.86199207, -0.55388587],\n",
              "       [-0.97611991,  0.07991979,  1.30649415],\n",
              "       [-0.11214252, -1.17596269, -0.28811729],\n",
              "       [ 0.36784492, -0.23405083, -0.55388587],\n",
              "       [-0.01614503,  0.70786103,  1.04072557],\n",
              "       [-0.30413749, -1.48993331, -0.42100158],\n",
              "       [ 0.75183487,  0.70786103,  0.50918843],\n",
              "       [-0.40013498, -0.54802145, -0.55388587],\n",
              "       [-0.40013498, -0.23405083, -0.42100158],\n",
              "       [-0.11214252,  0.07991979, -0.02234872],\n",
              "       [-1.55210483, -1.17596269,  0.24341985],\n",
              "       [-1.16811488, -0.86199207,  2.50245273],\n",
              "       [ 1.03982733,  1.6497729 , -0.55388587],\n",
              "       [-0.68812745, -0.23405083,  0.11053557],\n",
              "       [ 1.80780723,  0.39389041, -0.55388587],\n",
              "       [-1.93609479, -0.86199207, -0.55388587],\n",
              "       [ 0.65583738, -0.54802145,  2.7682213 ],\n",
              "       [-0.97611991, -1.48993331,  6.35609704],\n",
              "       [-0.68812745, -1.48993331, -0.15523301],\n",
              "       [-0.30413749, -0.54802145,  0.24341985],\n",
              "       [-0.01614503, -1.17596269, -0.15523301],\n",
              "       [-0.78412493,  1.6497729 , -0.55388587],\n",
              "       [ 1.90380472,  1.6497729 , -0.55388587],\n",
              "       [-1.45610735,  1.02183166, -0.55388587],\n",
              "       [-0.59212996,  0.07991979,  0.24341985],\n",
              "       [ 0.55983989, -0.86199207, -0.55388587],\n",
              "       [-0.11214252,  1.02183166, -0.02234872],\n",
              "       [-0.30413749,  0.39389041, -0.55388587],\n",
              "       [-0.20814001,  0.70786103, -0.55388587],\n",
              "       [ 1.61581226, -1.17596269,  0.50918843],\n",
              "       [ 0.36784492,  0.39389041, -0.42100158],\n",
              "       [ 0.36784492,  1.33580228, -0.55388587],\n",
              "       [ 1.03982733,  1.02183166, -0.55388587],\n",
              "       [ 1.3278198 ,  0.39389041,  0.50918843],\n",
              "       [-1.36010986,  1.02183166, -0.55388587],\n",
              "       [ 0.36784492,  0.39389041, -0.55388587],\n",
              "       [-1.16811488,  0.39389041, -0.55388587],\n",
              "       [-0.97611991,  0.39389041, -0.55388587],\n",
              "       [-0.11214252,  1.96374352, -0.15523301],\n",
              "       [-0.88012242,  0.07991979, -0.42100158],\n",
              "       [ 0.65583738,  0.70786103, -0.55388587],\n",
              "       [ 1.61581226,  0.07991979, -0.55388587],\n",
              "       [-1.16811488,  0.39389041, -0.55388587],\n",
              "       [-0.78412493,  1.33580228, -0.42100158],\n",
              "       [-2.12808976, -1.17596269, -0.28811729],\n",
              "       [-1.0721174 , -0.23405083,  2.10379987],\n",
              "       [-1.26411237,  0.70786103, -0.55388587],\n",
              "       [-1.45610735, -0.23405083, -0.15523301],\n",
              "       [ 0.46384241, -0.54802145, -0.28811729],\n",
              "       [-0.59212996,  1.6497729 , -0.02234872],\n",
              "       [-0.30413749,  0.70786103, -0.02234872],\n",
              "       [-1.8400973 , -0.86199207, -0.42100158],\n",
              "       [ 1.51981477, -0.86199207, -0.55388587],\n",
              "       [-0.11214252, -0.23405083, -0.15523301],\n",
              "       [ 1.03982733, -0.54802145, -0.55388587],\n",
              "       [-0.11214252, -0.86199207,  0.11053557],\n",
              "       [-0.40013498,  1.33580228, -0.42100158],\n",
              "       [ 1.61581226, -1.48993331, -0.55388587],\n",
              "       [ 1.13582482, -1.48993331, -0.55388587],\n",
              "       [ 0.55983989,  1.33580228, -0.15523301],\n",
              "       [ 0.36784492, -0.23405083,  1.30649415],\n",
              "       [-1.36010986,  0.07991979, -0.02234872],\n",
              "       [-0.40013498, -0.54802145, -0.42100158],\n",
              "       [-0.49613247,  1.02183166, -0.55388587],\n",
              "       [ 0.94382984, -0.86199207, -0.42100158],\n",
              "       [ 1.23182231, -1.48993331, -0.42100158],\n",
              "       [-1.64810232,  1.96374352, -0.55388587],\n",
              "       [ 0.07985246, -1.17596269,  0.37630414],\n",
              "       [ 2.19179718,  1.33580228, -0.55388587],\n",
              "       [ 0.94382984,  1.02183166, -0.55388587],\n",
              "       [-1.55210483, -0.86199207, -0.55388587],\n",
              "       [-1.26411237, -1.48993331, -0.28811729],\n",
              "       [ 1.13582482, -0.23405083,  2.36956844],\n",
              "       [ 1.42381728,  1.33580228, -0.55388587],\n",
              "       [-0.49613247, -0.54802145,  0.50918843],\n",
              "       [-0.40013498, -0.86199207, -0.42100158],\n",
              "       [ 0.17584994,  1.6497729 ,  1.43937843],\n",
              "       [ 0.07985246,  1.33580228,  5.55879132],\n",
              "       [-0.01614503, -0.86199207, -0.28811729],\n",
              "       [ 0.07985246, -1.48993331, -0.42100158],\n",
              "       [-0.78412493,  1.33580228, -0.42100158],\n",
              "       [-1.55210483, -0.86199207,  1.43937843],\n",
              "       [-1.16811488, -1.48993331, -0.55388587],\n",
              "       [ 0.75183487, -1.17596269, -0.55388587],\n",
              "       [ 1.99980221,  0.07991979, -0.55388587],\n",
              "       [-0.40013498,  0.39389041,  0.774957  ],\n",
              "       [ 0.07985246, -0.23405083, -0.55388587],\n",
              "       [-0.30413749,  0.07991979,  1.17360986],\n",
              "       [ 1.13582482,  0.39389041, -0.55388587],\n",
              "       [ 0.84783236, -1.48993331, -0.55388587],\n",
              "       [-0.30413749, -1.17596269, -0.28811729],\n",
              "       [ 1.13582482, -0.54802145, -0.28811729],\n",
              "       [-0.97611991,  1.02183166, -0.02234872],\n",
              "       [-0.68812745, -1.48993331, -0.28811729],\n",
              "       [-0.49613247, -0.23405083, -0.28811729],\n",
              "       [ 2.38379216,  0.70786103, -0.42100158],\n",
              "       [-0.97611991,  0.39389041, -0.15523301],\n",
              "       [-0.88012242, -1.48993331,  0.64207271],\n",
              "       [ 0.84783236,  1.02183166, -0.55388587],\n",
              "       [-1.16811488,  0.70786103, -0.55388587],\n",
              "       [-0.01614503, -0.86199207,  0.64207271],\n",
              "       [-0.68812745,  0.70786103,  2.10379987],\n",
              "       [ 1.80780723, -1.48993331, -0.55388587],\n",
              "       [-0.30413749, -0.54802145, -0.55388587],\n",
              "       [-1.45610735,  1.33580228,  0.11053557],\n",
              "       [ 0.27184743, -0.86199207, -0.55388587],\n",
              "       [-1.16811488,  1.33580228, -0.55388587],\n",
              "       [-0.59212996,  1.02183166,  1.04072557],\n",
              "       [ 0.94382984, -0.54802145,  0.64207271],\n",
              "       [ 1.13582482, -1.17596269, -0.28811729],\n",
              "       [ 0.36784492,  1.96374352, -0.55388587],\n",
              "       [-0.40013498,  1.02183166, -0.55388587],\n",
              "       [-1.45610735,  1.02183166,  0.90784129],\n",
              "       [-2.12808976,  0.70786103, -0.02234872],\n",
              "       [ 1.61581226, -1.48993331, -0.02234872],\n",
              "       [-0.30413749,  1.02183166, -0.42100158],\n",
              "       [ 0.55983989,  0.07991979, -0.55388587],\n",
              "       [-0.30413749,  0.07991979, -0.42100158],\n",
              "       [ 1.23182231, -1.48993331, -0.55388587],\n",
              "       [ 0.07985246,  0.70786103,  0.11053557],\n",
              "       [-1.16811488, -1.17596269, -0.55388587],\n",
              "       [ 1.61581226,  1.02183166,  1.30649415],\n",
              "       [ 1.3278198 ,  0.07991979, -0.42100158],\n",
              "       [-0.78412493,  0.70786103,  0.24341985],\n",
              "       [-2.22408725,  0.39389041, -0.42100158],\n",
              "       [ 0.46384241,  1.33580228, -0.55388587],\n",
              "       [ 0.94382984, -0.23405083, -0.55388587],\n",
              "       [ 0.46384241, -1.48993331, -0.15523301],\n",
              "       [-0.11214252, -0.23405083, -0.42100158],\n",
              "       [-0.30413749, -1.17596269, -0.55388587]])"
            ]
          },
          "metadata": {
            "tags": []
          },
          "execution_count": 116
        }
      ]
    },
    {
      "cell_type": "code",
      "metadata": {
        "id": "tdmilRo4gnLs",
        "colab_type": "code",
        "outputId": "40756468-792b-4d50-da6c-493f22558ed0",
        "colab": {
          "base_uri": "https://localhost:8080/",
          "height": 34
        }
      },
      "source": [
        "from sklearn.model_selection import GridSearchCV\n",
        "from keras.wrappers.scikit_learn import KerasClassifier"
      ],
      "execution_count": 0,
      "outputs": [
        {
          "output_type": "stream",
          "text": [
            "Using TensorFlow backend.\n"
          ],
          "name": "stderr"
        }
      ]
    },
    {
      "cell_type": "code",
      "metadata": {
        "id": "_druXtAwaxoZ",
        "colab_type": "code",
        "outputId": "c713b5ae-4777-467f-ebc5-3a1b2bdd3f76",
        "colab": {
          "base_uri": "https://localhost:8080/",
          "height": 712
        }
      },
      "source": [
        "#def create_model(optimizer='adam'):\n",
        "model = tf.keras.models.Sequential([\n",
        "  tf.keras.layers.Input(shape=(3,)),\n",
        "  tf.keras.layers.Dropout(0.8),\n",
        "  tf.keras.layers.Dense(256, activation='relu'),\n",
        "  tf.keras.layers.Dropout(0.5),\n",
        "  tf.keras.layers.Dense(1,activation='sigmoid')\n",
        "])\n",
        "\n",
        "#optimizer = SGD(lr=0.1)\n",
        "model.compile(optimizer='adam',\n",
        "      loss='binary_crossentropy',\n",
        "      metrics=['accuracy'])\n",
        "  #return model\n",
        "  \n",
        "r = model.fit(X_train, Y_train, validation_data=(X_val, Y_val), epochs=20)"
      ],
      "execution_count": 0,
      "outputs": [
        {
          "output_type": "stream",
          "text": [
            "Epoch 1/20\n",
            "5/5 [==============================] - 0s 22ms/step - loss: 0.7230 - accuracy: 0.4610 - val_loss: 0.7120 - val_accuracy: 0.4848\n",
            "Epoch 2/20\n",
            "5/5 [==============================] - 0s 9ms/step - loss: 0.6805 - accuracy: 0.6429 - val_loss: 0.6962 - val_accuracy: 0.6667\n",
            "Epoch 3/20\n",
            "5/5 [==============================] - 0s 9ms/step - loss: 0.6560 - accuracy: 0.7208 - val_loss: 0.6871 - val_accuracy: 0.7121\n",
            "Epoch 4/20\n",
            "5/5 [==============================] - 0s 8ms/step - loss: 0.6385 - accuracy: 0.6818 - val_loss: 0.6800 - val_accuracy: 0.7273\n",
            "Epoch 5/20\n",
            "5/5 [==============================] - 0s 9ms/step - loss: 0.6575 - accuracy: 0.7013 - val_loss: 0.6740 - val_accuracy: 0.7424\n",
            "Epoch 6/20\n",
            "5/5 [==============================] - 0s 8ms/step - loss: 0.6379 - accuracy: 0.7078 - val_loss: 0.6697 - val_accuracy: 0.7424\n",
            "Epoch 7/20\n",
            "5/5 [==============================] - 0s 9ms/step - loss: 0.6247 - accuracy: 0.7338 - val_loss: 0.6667 - val_accuracy: 0.7424\n",
            "Epoch 8/20\n",
            "5/5 [==============================] - 0s 8ms/step - loss: 0.6107 - accuracy: 0.7208 - val_loss: 0.6640 - val_accuracy: 0.7424\n",
            "Epoch 9/20\n",
            "5/5 [==============================] - 0s 8ms/step - loss: 0.6380 - accuracy: 0.7078 - val_loss: 0.6611 - val_accuracy: 0.7424\n",
            "Epoch 10/20\n",
            "5/5 [==============================] - 0s 9ms/step - loss: 0.6483 - accuracy: 0.7078 - val_loss: 0.6593 - val_accuracy: 0.7273\n",
            "Epoch 11/20\n",
            "5/5 [==============================] - 0s 8ms/step - loss: 0.5801 - accuracy: 0.7403 - val_loss: 0.6577 - val_accuracy: 0.7121\n",
            "Epoch 12/20\n",
            "5/5 [==============================] - 0s 8ms/step - loss: 0.6002 - accuracy: 0.7338 - val_loss: 0.6564 - val_accuracy: 0.7121\n",
            "Epoch 13/20\n",
            "5/5 [==============================] - 0s 8ms/step - loss: 0.5838 - accuracy: 0.7403 - val_loss: 0.6553 - val_accuracy: 0.7273\n",
            "Epoch 14/20\n",
            "5/5 [==============================] - 0s 8ms/step - loss: 0.5827 - accuracy: 0.7273 - val_loss: 0.6538 - val_accuracy: 0.7273\n",
            "Epoch 15/20\n",
            "5/5 [==============================] - 0s 9ms/step - loss: 0.6066 - accuracy: 0.7143 - val_loss: 0.6516 - val_accuracy: 0.7273\n",
            "Epoch 16/20\n",
            "5/5 [==============================] - 0s 10ms/step - loss: 0.6164 - accuracy: 0.7273 - val_loss: 0.6512 - val_accuracy: 0.7273\n",
            "Epoch 17/20\n",
            "5/5 [==============================] - 0s 8ms/step - loss: 0.5773 - accuracy: 0.7273 - val_loss: 0.6516 - val_accuracy: 0.7273\n",
            "Epoch 18/20\n",
            "5/5 [==============================] - 0s 8ms/step - loss: 0.5706 - accuracy: 0.7208 - val_loss: 0.6529 - val_accuracy: 0.7273\n",
            "Epoch 19/20\n",
            "5/5 [==============================] - 0s 12ms/step - loss: 0.5877 - accuracy: 0.7338 - val_loss: 0.6506 - val_accuracy: 0.7273\n",
            "Epoch 20/20\n",
            "5/5 [==============================] - 0s 8ms/step - loss: 0.5638 - accuracy: 0.7143 - val_loss: 0.6499 - val_accuracy: 0.7273\n"
          ],
          "name": "stdout"
        }
      ]
    },
    {
      "cell_type": "code",
      "metadata": {
        "id": "S6mXiMiWjFR-",
        "colab_type": "code",
        "outputId": "2ddf2fa8-1472-45d8-a4ae-83fe84112944",
        "colab": {
          "base_uri": "https://localhost:8080/",
          "height": 52
        }
      },
      "source": [
        "print(\"Train score:\", model.evaluate(X_train, Y_train))"
      ],
      "execution_count": 0,
      "outputs": [
        {
          "output_type": "stream",
          "text": [
            "5/5 [==============================] - 0s 2ms/step - loss: 4.2522 - accuracy: 0.7208\n",
            "Train score: [4.252191543579102, 0.7207792401313782]\n"
          ],
          "name": "stdout"
        }
      ]
    },
    {
      "cell_type": "code",
      "metadata": {
        "id": "9nZ_KxP0kQcf",
        "colab_type": "code",
        "outputId": "cf9ab93b-5fde-4a7a-f0fd-cec84162f5a1",
        "colab": {
          "base_uri": "https://localhost:8080/",
          "height": 282
        }
      },
      "source": [
        "plt.plot(r.history['loss'], label='loss')\n",
        "plt.plot(r.history['val_loss'], label='val_loss')\n",
        "plt.legend()\n",
        "\n",
        "# Plot the accuracy too\n",
        "plt.plot(r.history['accuracy'], label='acc')\n",
        "plt.plot(r.history['val_accuracy'], label='val_acc')\n",
        "plt.legend()"
      ],
      "execution_count": 0,
      "outputs": [
        {
          "output_type": "execute_result",
          "data": {
            "text/plain": [
              "<matplotlib.legend.Legend at 0x7f06dd4ea908>"
            ]
          },
          "metadata": {
            "tags": []
          },
          "execution_count": 229
        },
        {
          "output_type": "display_data",
          "data": {
            "image/png": "[encoded data removed]",
            "text/plain": [
              "<Figure size 432x288 with 1 Axes>"
            ]
          },
          "metadata": {
            "tags": [],
            "needs_background": "light"
          }
        }
      ]
    },
    {
      "cell_type": "code",
      "metadata": {
        "id": "WBahYrJSklKC",
        "colab_type": "code",
        "colab": {}
      },
      "source": [
        "P = model.predict(X_test)"
      ],
      "execution_count": 0,
      "outputs": []
    },
    {
      "cell_type": "code",
      "metadata": {
        "id": "E4NRghRIkpre",
        "colab_type": "code",
        "outputId": "53480734-262e-4af8-b81b-2dffd48f6678",
        "colab": {
          "base_uri": "https://localhost:8080/",
          "height": 86
        }
      },
      "source": [
        "P = np.round(P).flatten()\n",
        "print(P)"
      ],
      "execution_count": 0,
      "outputs": [
        {
          "output_type": "stream",
          "text": [
            "[1. 1. 1. 1. 1. 1. 1. 1. 1. 1. 1. 1. 1. 1. 1. 1. 1. 1. 1. 1. 1. 1. 1. 1.\n",
            " 1. 1. 1. 1. 1. 1. 1. 1. 1. 1. 1. 1. 1. 1. 1. 1. 1. 1. 1. 1. 1. 1. 1. 1.\n",
            " 1. 1. 1. 1. 1. 1. 1. 1. 1. 1. 1. 1. 1. 1. 1. 1. 1. 1. 1. 1. 1. 1. 1. 1.\n",
            " 1. 0. 1. 1. 1. 1. 1. 1. 1. 1. 1. 1. 1. 1.]\n"
          ],
          "name": "stdout"
        }
      ]
    },
    {
      "cell_type": "code",
      "metadata": {
        "id": "RaLEP3pkqYb0",
        "colab_type": "code",
        "colab": {}
      },
      "source": [
        "P = P.tolist()\n",
        "Q = []\n",
        "for i in P:\n",
        "  Q.append(math.trunc(i))\n",
        "#Q"
      ],
      "execution_count": 0,
      "outputs": []
    },
    {
      "cell_type": "code",
      "metadata": {
        "id": "Kos6aigL1i7a",
        "colab_type": "code",
        "colab": {}
      },
      "source": [
        "id = df2['Id'].to_list()\n",
        "#id"
      ],
      "execution_count": 0,
      "outputs": []
    },
    {
      "cell_type": "code",
      "metadata": {
        "id": "iS4sUInV1uG5",
        "colab_type": "code",
        "outputId": "8c7c5555-c534-466c-97c2-906f9f55969b",
        "colab": {
          "base_uri": "https://localhost:8080/",
          "height": 424
        }
      },
      "source": [
        "Y_pred = pd.DataFrame(list(zip(id, Q)), \n",
        "               columns =['Id', 'Category']) \n",
        "Y_pred"
      ],
      "execution_count": 0,
      "outputs": [
        {
          "output_type": "execute_result",
          "data": {
            "text/html": [
              "<div>\n",
              "<style scoped>\n",
              "    .dataframe tbody tr th:only-of-type {\n",
              "        vertical-align: middle;\n",
              "    }\n",
              "\n",
              "    .dataframe tbody tr th {\n",
              "        vertical-align: top;\n",
              "    }\n",
              "\n",
              "    .dataframe thead th {\n",
              "        text-align: right;\n",
              "    }\n",
              "</style>\n",
              "<table border=\"1\" class=\"dataframe\">\n",
              "  <thead>\n",
              "    <tr style=\"text-align: right;\">\n",
              "      <th></th>\n",
              "      <th>Id</th>\n",
              "      <th>Category</th>\n",
              "    </tr>\n",
              "  </thead>\n",
              "  <tbody>\n",
              "    <tr>\n",
              "      <th>0</th>\n",
              "      <td>1</td>\n",
              "      <td>1</td>\n",
              "    </tr>\n",
              "    <tr>\n",
              "      <th>1</th>\n",
              "      <td>7</td>\n",
              "      <td>1</td>\n",
              "    </tr>\n",
              "    <tr>\n",
              "      <th>2</th>\n",
              "      <td>8</td>\n",
              "      <td>1</td>\n",
              "    </tr>\n",
              "    <tr>\n",
              "      <th>3</th>\n",
              "      <td>9</td>\n",
              "      <td>1</td>\n",
              "    </tr>\n",
              "    <tr>\n",
              "      <th>4</th>\n",
              "      <td>11</td>\n",
              "      <td>1</td>\n",
              "    </tr>\n",
              "    <tr>\n",
              "      <th>...</th>\n",
              "      <td>...</td>\n",
              "      <td>...</td>\n",
              "    </tr>\n",
              "    <tr>\n",
              "      <th>81</th>\n",
              "      <td>293</td>\n",
              "      <td>1</td>\n",
              "    </tr>\n",
              "    <tr>\n",
              "      <th>82</th>\n",
              "      <td>296</td>\n",
              "      <td>1</td>\n",
              "    </tr>\n",
              "    <tr>\n",
              "      <th>83</th>\n",
              "      <td>301</td>\n",
              "      <td>1</td>\n",
              "    </tr>\n",
              "    <tr>\n",
              "      <th>84</th>\n",
              "      <td>303</td>\n",
              "      <td>1</td>\n",
              "    </tr>\n",
              "    <tr>\n",
              "      <th>85</th>\n",
              "      <td>305</td>\n",
              "      <td>1</td>\n",
              "    </tr>\n",
              "  </tbody>\n",
              "</table>\n",
              "<p>86 rows × 2 columns</p>\n",
              "</div>"
            ],
            "text/plain": [
              "     Id  Category\n",
              "0     1         1\n",
              "1     7         1\n",
              "2     8         1\n",
              "3     9         1\n",
              "4    11         1\n",
              "..  ...       ...\n",
              "81  293         1\n",
              "82  296         1\n",
              "83  301         1\n",
              "84  303         1\n",
              "85  305         1\n",
              "\n",
              "[86 rows x 2 columns]"
            ]
          },
          "metadata": {
            "tags": []
          },
          "execution_count": 243
        }
      ]
    },
    {
      "cell_type": "code",
      "metadata": {
        "id": "ETTy2vN_84r8",
        "colab_type": "code",
        "outputId": "e61395dd-99fb-40f3-a837-fb7b91f13a6c",
        "colab": {
          "base_uri": "https://localhost:8080/",
          "height": 455
        }
      },
      "source": [
        "Y_pred.set_index(['Id'], inplace=True)\n",
        "Y_pred"
      ],
      "execution_count": 0,
      "outputs": [
        {
          "output_type": "execute_result",
          "data": {
            "text/html": [
              "<div>\n",
              "<style scoped>\n",
              "    .dataframe tbody tr th:only-of-type {\n",
              "        vertical-align: middle;\n",
              "    }\n",
              "\n",
              "    .dataframe tbody tr th {\n",
              "        vertical-align: top;\n",
              "    }\n",
              "\n",
              "    .dataframe thead th {\n",
              "        text-align: right;\n",
              "    }\n",
              "</style>\n",
              "<table border=\"1\" class=\"dataframe\">\n",
              "  <thead>\n",
              "    <tr style=\"text-align: right;\">\n",
              "      <th></th>\n",
              "      <th>Category</th>\n",
              "    </tr>\n",
              "    <tr>\n",
              "      <th>Id</th>\n",
              "      <th></th>\n",
              "    </tr>\n",
              "  </thead>\n",
              "  <tbody>\n",
              "    <tr>\n",
              "      <th>1</th>\n",
              "      <td>1</td>\n",
              "    </tr>\n",
              "    <tr>\n",
              "      <th>7</th>\n",
              "      <td>1</td>\n",
              "    </tr>\n",
              "    <tr>\n",
              "      <th>8</th>\n",
              "      <td>1</td>\n",
              "    </tr>\n",
              "    <tr>\n",
              "      <th>9</th>\n",
              "      <td>1</td>\n",
              "    </tr>\n",
              "    <tr>\n",
              "      <th>11</th>\n",
              "      <td>1</td>\n",
              "    </tr>\n",
              "    <tr>\n",
              "      <th>...</th>\n",
              "      <td>...</td>\n",
              "    </tr>\n",
              "    <tr>\n",
              "      <th>293</th>\n",
              "      <td>1</td>\n",
              "    </tr>\n",
              "    <tr>\n",
              "      <th>296</th>\n",
              "      <td>1</td>\n",
              "    </tr>\n",
              "    <tr>\n",
              "      <th>301</th>\n",
              "      <td>1</td>\n",
              "    </tr>\n",
              "    <tr>\n",
              "      <th>303</th>\n",
              "      <td>1</td>\n",
              "    </tr>\n",
              "    <tr>\n",
              "      <th>305</th>\n",
              "      <td>1</td>\n",
              "    </tr>\n",
              "  </tbody>\n",
              "</table>\n",
              "<p>86 rows × 1 columns</p>\n",
              "</div>"
            ],
            "text/plain": [
              "     Category\n",
              "Id           \n",
              "1           1\n",
              "7           1\n",
              "8           1\n",
              "9           1\n",
              "11          1\n",
              "..        ...\n",
              "293         1\n",
              "296         1\n",
              "301         1\n",
              "303         1\n",
              "305         1\n",
              "\n",
              "[86 rows x 1 columns]"
            ]
          },
          "metadata": {
            "tags": []
          },
          "execution_count": 244
        }
      ]
    },
    {
      "cell_type": "code",
      "metadata": {
        "id": "4CS7F9i1N41N",
        "colab_type": "code",
        "colab": {}
      },
      "source": [
        "Y_pred['Category'] = Y_pred['Category'].replace(to_replace=0,value=2)"
      ],
      "execution_count": 0,
      "outputs": []
    },
    {
      "cell_type": "code",
      "metadata": {
        "id": "hmP9omKe2eEO",
        "colab_type": "code",
        "colab": {}
      },
      "source": [
        "Y_pred.to_csv('pred.csv')"
      ],
      "execution_count": 0,
      "outputs": []
    }
  ]
}