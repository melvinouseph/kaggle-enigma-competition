{
  "nbformat": 4,
  "nbformat_minor": 0,
  "metadata": {
    "colab": {
      "name": "Day 1 (Random Forest).ipynb",
      "provenance": []
    },
    "kernelspec": {
      "name": "python3",
      "display_name": "Python 3"
    }
  },
  "cells": [
    {
      "cell_type": "code",
      "metadata": {
        "id": "0bDtyXpzhfb-",
        "colab_type": "code",
        "colab": {}
      },
      "source": [
        "import numpy as np\n",
        "import pandas as pd\n",
        "import matplotlib.pyplot as plt\n",
        "import tensorflow as tf\n",
        "import io\n",
        "from sklearn.model_selection import train_test_split\n",
        "from sklearn.preprocessing import StandardScaler, MinMaxScaler\n",
        "import math\n",
        "from sklearn.ensemble import RandomForestClassifier\n",
        "from sklearn import metrics\n",
        "from sklearn.model_selection import cross_val_score, GridSearchCV"
      ],
      "execution_count": 0,
      "outputs": []
    },
    {
      "cell_type": "code",
      "metadata": {
        "id": "wKUn3WAwiDjI",
        "colab_type": "code",
        "colab": {}
      },
      "source": [
        "df1 = pd.read_csv('train.csv')\n",
        "df2 = pd.read_csv('test.csv')"
      ],
      "execution_count": 0,
      "outputs": []
    },
    {
      "cell_type": "code",
      "metadata": {
        "id": "fsDmChnJiNff",
        "colab_type": "code",
        "colab": {}
      },
      "source": [
        "df1['Victory Status'] = df1['Victory Status'].replace(to_replace=2,value=0)\n",
        "Y = df1['Victory Status'].copy()\n",
        "X = df1[['Number of soldiers','Number of tanks','Number of aircrafts']].copy()\n",
        "X_test = df2[['Number of soldiers','Number of tanks','Number of aircrafts']].copy()\n",
        "Y_test = df2['Id'].copy()\n",
        "\n",
        "scaler = StandardScaler()\n",
        "X = scaler.fit_transform(X)\n",
        "X_test = scaler.transform(X_test)"
      ],
      "execution_count": 0,
      "outputs": []
    },
    {
      "cell_type": "code",
      "metadata": {
        "id": "LnzQS7NFjPU-",
        "colab_type": "code",
        "colab": {}
      },
      "source": [
        "X_train, X_val, Y_train, Y_val = train_test_split(X, Y, test_size=0.30)"
      ],
      "execution_count": 0,
      "outputs": []
    },
    {
      "cell_type": "code",
      "metadata": {
        "id": "45kd6Ky2ijhw",
        "colab_type": "code",
        "outputId": "fc469b78-4889-44d2-8cb9-cd8747194b56",
        "colab": {
          "base_uri": "https://localhost:8080/",
          "height": 156
        }
      },
      "source": [
        "clf=RandomForestClassifier(n_estimators=100)\n",
        "clf.fit(X_train,Y_train)"
      ],
      "execution_count": 0,
      "outputs": [
        {
          "output_type": "execute_result",
          "data": {
            "text/plain": [
              "RandomForestClassifier(bootstrap=True, ccp_alpha=0.0, class_weight=None,\n",
              "                       criterion='gini', max_depth=None, max_features='auto',\n",
              "                       max_leaf_nodes=None, max_samples=None,\n",
              "                       min_impurity_decrease=0.0, min_impurity_split=None,\n",
              "                       min_samples_leaf=1, min_samples_split=2,\n",
              "                       min_weight_fraction_leaf=0.0, n_estimators=100,\n",
              "                       n_jobs=None, oob_score=False, random_state=None,\n",
              "                       verbose=0, warm_start=False)"
            ]
          },
          "metadata": {
            "tags": []
          },
          "execution_count": 8
        }
      ]
    },
    {
      "cell_type": "code",
      "metadata": {
        "id": "Pm14Y3tji3Ac",
        "colab_type": "code",
        "colab": {}
      },
      "source": [
        "Y_predval=clf.predict(X_val)"
      ],
      "execution_count": 0,
      "outputs": []
    },
    {
      "cell_type": "code",
      "metadata": {
        "id": "fbZgVpktjB8h",
        "colab_type": "code",
        "outputId": "23f07340-c8d7-4f91-94ed-404a2d5f698e",
        "colab": {
          "base_uri": "https://localhost:8080/",
          "height": 34
        }
      },
      "source": [
        "print(\"Accuracy:\",metrics.accuracy_score(Y_val, Y_predval))"
      ],
      "execution_count": 0,
      "outputs": [
        {
          "output_type": "stream",
          "text": [
            "Accuracy: 0.6363636363636364\n"
          ],
          "name": "stdout"
        }
      ]
    },
    {
      "cell_type": "code",
      "metadata": {
        "id": "DdBQJ5ASjqRE",
        "colab_type": "code",
        "colab": {}
      },
      "source": [
        "Y_pred = clf.predict(X_test)"
      ],
      "execution_count": 0,
      "outputs": []
    },
    {
      "cell_type": "code",
      "metadata": {
        "id": "KgFYu-c4j0my",
        "colab_type": "code",
        "colab": {}
      },
      "source": [
        "Y_pred = Y_pred.flatten()"
      ],
      "execution_count": 0,
      "outputs": []
    },
    {
      "cell_type": "code",
      "metadata": {
        "id": "bye25hpcj7Af",
        "colab_type": "code",
        "outputId": "9e8289ed-3822-4a83-b8f5-9ceae90d88ee",
        "colab": {
          "base_uri": "https://localhost:8080/",
          "height": 69
        }
      },
      "source": [
        "Y_pred = np.round(Y_pred).flatten()\n",
        "print(Y_pred)"
      ],
      "execution_count": 0,
      "outputs": [
        {
          "output_type": "stream",
          "text": [
            "[1 1 1 1 1 1 1 1 1 1 1 1 1 1 1 1 1 1 1 1 1 1 1 1 1 1 0 1 1 1 1 1 0 1 1 1 1\n",
            " 1 1 0 1 1 1 1 1 1 1 0 1 0 1 0 1 0 1 0 1 1 0 1 1 1 1 0 1 1 0 0 1 1 1 0 1 0\n",
            " 1 1 1 1 1 1 1 1 1 0 0 0]\n"
          ],
          "name": "stdout"
        }
      ]
    },
    {
      "cell_type": "code",
      "metadata": {
        "id": "hk1JBAyxkQlt",
        "colab_type": "code",
        "colab": {}
      },
      "source": [
        "Y_pred = Y_pred.tolist()\n",
        "\n",
        "id = df2['Id'].to_list()\n",
        "#id\n",
        "\n",
        "Y_pred = pd.DataFrame(list(zip(id, Y_pred)), \n",
        "               columns =['Id', 'Category']) \n",
        "Y_pred\n",
        "\n",
        "Y_pred.set_index(['Id'], inplace=True)\n",
        "Y_pred\n",
        "\n",
        "Y_pred['Category'] = Y_pred['Category'].replace(to_replace=0,value=2)"
      ],
      "execution_count": 0,
      "outputs": []
    },
    {
      "cell_type": "code",
      "metadata": {
        "id": "HxPRFZGhkq16",
        "colab_type": "code",
        "colab": {}
      },
      "source": [
        "Y_pred.to_csv('pred.csv')"
      ],
      "execution_count": 0,
      "outputs": []
    }
  ]
}